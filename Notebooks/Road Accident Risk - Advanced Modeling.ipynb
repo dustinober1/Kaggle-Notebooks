{
 "cells": [
  {
   "cell_type": "markdown",
   "id": "28d663db",
   "metadata": {},
   "source": [
    "# Predicting Road Accident Risk - Advanced Modeling\n",
    "**Goal: Achieve RMSE < 0.05**\n",
    "\n",
    "## Strategy:\n",
    "1. Data Loading & Initial EDA\n",
    "2. Feature Engineering\n",
    "3. Model Testing:\n",
    "   - Gradient Boosting Models (LightGBM, XGBoost, CatBoost)\n",
    "   - Neural Networks (Tabular)\n",
    "   - Ensemble Methods\n",
    "4. Transfer Learning (if applicable)\n",
    "5. Hyperparameter Optimization\n",
    "6. Final Ensemble & Submission"
   ]
  },
  {
   "cell_type": "markdown",
   "id": "b11c1137",
   "metadata": {},
   "source": [
    "## 1. Setup & Data Loading"
   ]
  },
  {
   "cell_type": "code",
   "execution_count": 1,
   "id": "4e8e5219",
   "metadata": {},
   "outputs": [
    {
     "name": "stdout",
     "output_type": "stream",
     "text": [
      "Libraries imported successfully!\n"
     ]
    }
   ],
   "source": [
    "# Import core libraries\n",
    "import pandas as pd\n",
    "import numpy as np\n",
    "import matplotlib.pyplot as plt\n",
    "import seaborn as sns\n",
    "from sklearn.model_selection import KFold, cross_val_score\n",
    "from sklearn.metrics import mean_squared_error, mean_absolute_error\n",
    "import warnings\n",
    "warnings.filterwarnings('ignore')\n",
    "\n",
    "# Set random seed for reproducibility\n",
    "RANDOM_STATE = 42\n",
    "np.random.seed(RANDOM_STATE)\n",
    "\n",
    "# Display settings\n",
    "pd.set_option('display.max_columns', None)\n",
    "plt.style.use('seaborn-v0_8-darkgrid')\n",
    "\n",
    "print(\"Libraries imported successfully!\")"
   ]
  },
  {
   "cell_type": "code",
   "execution_count": 2,
   "id": "407d5ab7",
   "metadata": {},
   "outputs": [
    {
     "name": "stdout",
     "output_type": "stream",
     "text": [
      "Train shape: (517754, 14)\n",
      "Test shape: (172585, 13)\n"
     ]
    }
   ],
   "source": [
    "# Load the data\n",
    "train = pd.read_csv('/Users/dustinober/Kaggle/playground-series-s5e10/train.csv')\n",
    "test = pd.read_csv('/Users/dustinober/Kaggle/playground-series-s5e10/test.csv')\n",
    "sample_submission = pd.read_csv('/Users/dustinober/Kaggle/playground-series-s5e10/sample_submission.csv')\n",
    "\n",
    "print(f\"Train shape: {train.shape}\")\n",
    "print(f\"Test shape: {test.shape}\")"
   ]
  },
  {
   "cell_type": "code",
   "execution_count": 3,
   "id": "75d510ae",
   "metadata": {},
   "outputs": [
    {
     "name": "stdout",
     "output_type": "stream",
     "text": [
      "Train Data Info:\n",
      "<class 'pandas.core.frame.DataFrame'>\n",
      "RangeIndex: 517754 entries, 0 to 517753\n",
      "Data columns (total 14 columns):\n",
      " #   Column                  Non-Null Count   Dtype  \n",
      "---  ------                  --------------   -----  \n",
      " 0   id                      517754 non-null  int64  \n",
      " 1   road_type               517754 non-null  object \n",
      " 2   num_lanes               517754 non-null  int64  \n",
      " 3   curvature               517754 non-null  float64\n",
      " 4   speed_limit             517754 non-null  int64  \n",
      " 5   lighting                517754 non-null  object \n",
      " 6   weather                 517754 non-null  object \n",
      " 7   road_signs_present      517754 non-null  bool   \n",
      " 8   public_road             517754 non-null  bool   \n",
      " 9   time_of_day             517754 non-null  object \n",
      " 10  holiday                 517754 non-null  bool   \n",
      " 11  school_season           517754 non-null  bool   \n",
      " 12  num_reported_accidents  517754 non-null  int64  \n",
      " 13  accident_risk           517754 non-null  float64\n",
      "dtypes: bool(4), float64(2), int64(4), object(4)\n",
      "memory usage: 41.5+ MB\n",
      "None\n",
      "\n",
      "================================================================================\n",
      "\n",
      "Target Variable Statistics:\n",
      "count    517754.000000\n",
      "mean          0.352377\n",
      "std           0.166417\n",
      "min           0.000000\n",
      "25%           0.230000\n",
      "50%           0.340000\n",
      "75%           0.460000\n",
      "max           1.000000\n",
      "Name: accident_risk, dtype: float64\n",
      "\n",
      "Target range: [0.0000, 1.0000]\n",
      "\n",
      "================================================================================\n",
      "\n",
      "Missing Values:\n",
      "id                        0\n",
      "road_type                 0\n",
      "num_lanes                 0\n",
      "curvature                 0\n",
      "speed_limit               0\n",
      "lighting                  0\n",
      "weather                   0\n",
      "road_signs_present        0\n",
      "public_road               0\n",
      "time_of_day               0\n",
      "holiday                   0\n",
      "school_season             0\n",
      "num_reported_accidents    0\n",
      "accident_risk             0\n",
      "dtype: int64\n",
      "\n",
      "================================================================================\n",
      "\n",
      "Categorical Features:\n",
      "['road_type', 'lighting', 'weather', 'time_of_day']\n",
      "\n",
      "road_type: 3 unique values\n",
      "road_type\n",
      "highway    173672\n",
      "rural      172719\n",
      "urban      171363\n",
      "Name: count, dtype: int64\n",
      "\n",
      "lighting: 3 unique values\n",
      "lighting\n",
      "dim         183826\n",
      "daylight    178015\n",
      "night       155913\n",
      "Name: count, dtype: int64\n",
      "\n",
      "weather: 3 unique values\n",
      "weather\n",
      "foggy    181463\n",
      "clear    179306\n",
      "rainy    156985\n",
      "Name: count, dtype: int64\n",
      "\n",
      "time_of_day: 3 unique values\n",
      "time_of_day\n",
      "morning      173410\n",
      "evening      172837\n",
      "afternoon    171507\n",
      "Name: count, dtype: int64\n"
     ]
    }
   ],
   "source": [
    "# Initial data exploration\n",
    "print(\"Train Data Info:\")\n",
    "print(train.info())\n",
    "print(\"\\n\" + \"=\"*80)\n",
    "print(\"\\nTarget Variable Statistics:\")\n",
    "print(train['accident_risk'].describe())\n",
    "print(f\"\\nTarget range: [{train['accident_risk'].min():.4f}, {train['accident_risk'].max():.4f}]\")\n",
    "print(\"\\n\" + \"=\"*80)\n",
    "print(\"\\nMissing Values:\")\n",
    "print(train.isnull().sum())\n",
    "print(\"\\n\" + \"=\"*80)\n",
    "print(\"\\nCategorical Features:\")\n",
    "cat_cols = train.select_dtypes(include=['object']).columns.tolist()\n",
    "print(cat_cols)\n",
    "for col in cat_cols:\n",
    "    print(f\"\\n{col}: {train[col].nunique()} unique values\")\n",
    "    print(train[col].value_counts())"
   ]
  },
  {
   "cell_type": "markdown",
   "id": "f12b3dfe",
   "metadata": {},
   "source": [
    "## 2. Feature Engineering\n",
    "\n",
    "Let's create comprehensive features from the existing data."
   ]
  },
  {
   "cell_type": "code",
   "execution_count": 3,
   "id": "aab39ac4",
   "metadata": {},
   "outputs": [
    {
     "name": "stdout",
     "output_type": "stream",
     "text": [
      "Creating features for train data...\n",
      "Creating features for test data...\n",
      "\n",
      "New train shape: (517754, 28)\n",
      "New test shape: (172585, 27)\n",
      "\n",
      "New features created: 14\n"
     ]
    }
   ],
   "source": [
    "from sklearn.preprocessing import LabelEncoder\n",
    "\n",
    "def create_features(df):\n",
    "    \"\"\"Create engineered features\"\"\"\n",
    "    df = df.copy()\n",
    "    \n",
    "    # Encode categorical variables\n",
    "    cat_cols = ['road_type', 'lighting', 'weather', 'time_of_day']\n",
    "    le_dict = {}\n",
    "    \n",
    "    for col in cat_cols:\n",
    "        le = LabelEncoder()\n",
    "        df[f'{col}_encoded'] = le.fit_transform(df[col])\n",
    "        le_dict[col] = le\n",
    "    \n",
    "    # Binary encoding for boolean columns\n",
    "    df['road_signs_present'] = df['road_signs_present'].astype(int)\n",
    "    df['public_road'] = df['public_road'].astype(int)\n",
    "    df['holiday'] = df['holiday'].astype(int)\n",
    "    df['school_season'] = df['school_season'].astype(int)\n",
    "    \n",
    "    # Interaction features\n",
    "    df['speed_curvature'] = df['speed_limit'] * df['curvature']\n",
    "    df['lanes_speed'] = df['num_lanes'] * df['speed_limit']\n",
    "    df['accidents_per_lane'] = df['num_reported_accidents'] / (df['num_lanes'] + 1)\n",
    "    \n",
    "    # Risk indicators\n",
    "    df['high_speed'] = (df['speed_limit'] >= 60).astype(int)\n",
    "    df['high_curvature'] = (df['curvature'] >= 0.5).astype(int)\n",
    "    df['bad_weather'] = df['weather'].isin(['rainy', 'foggy', 'snowy']).astype(int)\n",
    "    df['poor_lighting'] = df['lighting'].isin(['dim', 'night']).astype(int)\n",
    "    \n",
    "    # Combined risk score\n",
    "    df['risk_score'] = (df['high_speed'] + df['high_curvature'] + \n",
    "                        df['bad_weather'] + df['poor_lighting'] + \n",
    "                        (df['num_reported_accidents'] > 0).astype(int))\n",
    "    \n",
    "    # Polynomial features for key continuous variables\n",
    "    df['curvature_sq'] = df['curvature'] ** 2\n",
    "    df['speed_sq'] = df['speed_limit'] ** 2\n",
    "    \n",
    "    return df, le_dict\n",
    "\n",
    "# Apply feature engineering\n",
    "print(\"Creating features for train data...\")\n",
    "train_fe, le_dict = create_features(train)\n",
    "print(\"Creating features for test data...\")\n",
    "test_fe, _ = create_features(test)\n",
    "\n",
    "print(f\"\\nNew train shape: {train_fe.shape}\")\n",
    "print(f\"New test shape: {test_fe.shape}\")\n",
    "print(f\"\\nNew features created: {train_fe.shape[1] - train.shape[1]}\")"
   ]
  },
  {
   "cell_type": "code",
   "execution_count": 4,
   "id": "a56aea7a",
   "metadata": {},
   "outputs": [
    {
     "name": "stdout",
     "output_type": "stream",
     "text": [
      "Feature columns (22): ['num_lanes', 'curvature', 'speed_limit', 'road_signs_present', 'public_road', 'holiday', 'school_season', 'num_reported_accidents', 'road_type_encoded', 'lighting_encoded', 'weather_encoded', 'time_of_day_encoded', 'speed_curvature', 'lanes_speed', 'accidents_per_lane', 'high_speed', 'high_curvature', 'bad_weather', 'poor_lighting', 'risk_score', 'curvature_sq', 'speed_sq']\n",
      "\n",
      "X shape: (517754, 22)\n",
      "y shape: (517754,)\n",
      "X_test shape: (172585, 22)\n"
     ]
    }
   ],
   "source": [
    "# Prepare data for modeling\n",
    "# Remove non-numeric columns and id\n",
    "feature_cols = [col for col in train_fe.columns if col not in \n",
    "                ['id', 'accident_risk', 'road_type', 'lighting', 'weather', 'time_of_day']]\n",
    "\n",
    "X = train_fe[feature_cols].values\n",
    "y = train_fe['accident_risk'].values\n",
    "X_test = test_fe[feature_cols].values\n",
    "\n",
    "print(f\"Feature columns ({len(feature_cols)}): {feature_cols}\")\n",
    "print(f\"\\nX shape: {X.shape}\")\n",
    "print(f\"y shape: {y.shape}\")\n",
    "print(f\"X_test shape: {X_test.shape}\")"
   ]
  },
  {
   "cell_type": "markdown",
   "id": "aa35e778",
   "metadata": {},
   "source": [
    "## 3. Model Training & Evaluation\n",
    "\n",
    "We'll test multiple models systematically and track their performance to achieve RMSE < 0.05"
   ]
  },
  {
   "cell_type": "code",
   "execution_count": 5,
   "id": "4ef053ce",
   "metadata": {},
   "outputs": [
    {
     "name": "stdout",
     "output_type": "stream",
     "text": [
      "Training set: (414203, 22)\n",
      "Validation set: (103551, 22)\n"
     ]
    }
   ],
   "source": [
    "# Setup cross-validation\n",
    "from sklearn.model_selection import train_test_split\n",
    "\n",
    "# Create validation set\n",
    "X_train, X_val, y_train, y_val = train_test_split(X, y, test_size=0.2, random_state=RANDOM_STATE)\n",
    "\n",
    "print(f\"Training set: {X_train.shape}\")\n",
    "print(f\"Validation set: {X_val.shape}\")\n",
    "\n",
    "# Dictionary to store model results\n",
    "model_results = {}\n",
    "\n",
    "def evaluate_model(name, y_true, y_pred):\n",
    "    \"\"\"Calculate and display model metrics\"\"\"\n",
    "    rmse = np.sqrt(mean_squared_error(y_true, y_pred))\n",
    "    mae = mean_absolute_error(y_true, y_pred)\n",
    "    \n",
    "    print(f\"\\n{name} Results:\")\n",
    "    print(f\"  RMSE: {rmse:.6f}\")\n",
    "    print(f\"  MAE: {mae:.6f}\")\n",
    "    \n",
    "    model_results[name] = {'rmse': rmse, 'mae': mae}\n",
    "    return rmse"
   ]
  },
  {
   "cell_type": "markdown",
   "id": "ae0c4e08",
   "metadata": {},
   "source": [
    "### 3.1 LightGBM Model"
   ]
  },
  {
   "cell_type": "code",
   "execution_count": 12,
   "id": "6bf230a5",
   "metadata": {},
   "outputs": [
    {
     "name": "stdout",
     "output_type": "stream",
     "text": [
      "Training LightGBM...\n",
      "Training until validation scores don't improve for 50 rounds\n",
      "[100]\ttrain's rmse: 0.0565654\tval's rmse: 0.0568506\n",
      "[200]\ttrain's rmse: 0.0560887\tval's rmse: 0.0564574\n",
      "[300]\ttrain's rmse: 0.0559058\tval's rmse: 0.0563637\n",
      "[400]\ttrain's rmse: 0.0557851\tval's rmse: 0.0563282\n",
      "[500]\ttrain's rmse: 0.0556821\tval's rmse: 0.0563064\n",
      "[600]\ttrain's rmse: 0.0555826\tval's rmse: 0.0562901\n",
      "[700]\ttrain's rmse: 0.0554994\tval's rmse: 0.056279\n",
      "[800]\ttrain's rmse: 0.0554142\tval's rmse: 0.0562741\n",
      "[900]\ttrain's rmse: 0.0553338\tval's rmse: 0.0562711\n",
      "[1000]\ttrain's rmse: 0.055257\tval's rmse: 0.0562697\n",
      "Did not meet early stopping. Best iteration is:\n",
      "[992]\ttrain's rmse: 0.0552633\tval's rmse: 0.0562685\n",
      "\n",
      "LightGBM Results:\n",
      "  RMSE: 0.056269\n",
      "  MAE: 0.043676\n",
      "\n",
      "Top 10 Important Features:\n",
      "                   feature  importance\n",
      "1                curvature        6110\n",
      "12         speed_curvature        4331\n",
      "7   num_reported_accidents        2033\n",
      "13             lanes_speed        1997\n",
      "10         weather_encoded        1929\n",
      "14      accidents_per_lane        1862\n",
      "9         lighting_encoded        1613\n",
      "2              speed_limit        1586\n",
      "19              risk_score        1558\n",
      "11     time_of_day_encoded        1152\n"
     ]
    }
   ],
   "source": [
    "import lightgbm as lgb\n",
    "\n",
    "# Train LightGBM with optimized parameters\n",
    "print(\"Training LightGBM...\")\n",
    "\n",
    "lgb_params = {\n",
    "    'objective': 'regression',\n",
    "    'metric': 'rmse',\n",
    "    'boosting_type': 'gbdt',\n",
    "    'learning_rate': 0.05,\n",
    "    'num_leaves': 31,\n",
    "    'max_depth': -1,\n",
    "    'min_child_samples': 20,\n",
    "    'subsample': 0.8,\n",
    "    'subsample_freq': 1,\n",
    "    'colsample_bytree': 0.8,\n",
    "    'reg_alpha': 0.1,\n",
    "    'reg_lambda': 0.1,\n",
    "    'random_state': RANDOM_STATE,\n",
    "    'n_jobs': -1,\n",
    "    'verbose': -1\n",
    "}\n",
    "\n",
    "lgb_train = lgb.Dataset(X_train, y_train)\n",
    "lgb_val = lgb.Dataset(X_val, y_val, reference=lgb_train)\n",
    "\n",
    "model_lgb = lgb.train(\n",
    "    lgb_params,\n",
    "    lgb_train,\n",
    "    num_boost_round=1000,\n",
    "    valid_sets=[lgb_train, lgb_val],\n",
    "    valid_names=['train', 'val'],\n",
    "    callbacks=[\n",
    "        lgb.early_stopping(stopping_rounds=50),\n",
    "        lgb.log_evaluation(period=100)\n",
    "    ]\n",
    ")\n",
    "\n",
    "# Predictions\n",
    "y_pred_lgb_val = model_lgb.predict(X_val, num_iteration=model_lgb.best_iteration)\n",
    "rmse_lgb = evaluate_model(\"LightGBM\", y_val, y_pred_lgb_val)\n",
    "\n",
    "# Feature importance\n",
    "feature_importance = pd.DataFrame({\n",
    "    'feature': feature_cols,\n",
    "    'importance': model_lgb.feature_importance()\n",
    "}).sort_values('importance', ascending=False)\n",
    "\n",
    "print(\"\\nTop 10 Important Features:\")\n",
    "print(feature_importance.head(10))"
   ]
  },
  {
   "cell_type": "markdown",
   "id": "ae8eda37",
   "metadata": {},
   "source": [
    "### 3.2 XGBoost Model"
   ]
  },
  {
   "cell_type": "code",
   "execution_count": 13,
   "id": "1a57a9b4",
   "metadata": {},
   "outputs": [
    {
     "name": "stdout",
     "output_type": "stream",
     "text": [
      "Training XGBoost...\n",
      "[0]\ttrain-rmse:0.16099\tval-rmse:0.16072\n",
      "[100]\ttrain-rmse:0.05618\tval-rmse:0.05653\n",
      "[200]\ttrain-rmse:0.05581\tval-rmse:0.05631\n",
      "[300]\ttrain-rmse:0.05562\tval-rmse:0.05627\n",
      "[400]\ttrain-rmse:0.05548\tval-rmse:0.05625\n",
      "[500]\ttrain-rmse:0.05535\tval-rmse:0.05624\n",
      "[600]\ttrain-rmse:0.05524\tval-rmse:0.05623\n",
      "[613]\ttrain-rmse:0.05522\tval-rmse:0.05624\n",
      "\n",
      "XGBoost Results:\n",
      "  RMSE: 0.056236\n",
      "  MAE: 0.043656\n"
     ]
    }
   ],
   "source": [
    "import xgboost as xgb\n",
    "\n",
    "print(\"Training XGBoost...\")\n",
    "\n",
    "xgb_params = {\n",
    "    'objective': 'reg:squarederror',\n",
    "    'eval_metric': 'rmse',\n",
    "    'learning_rate': 0.05,\n",
    "    'max_depth': 6,\n",
    "    'min_child_weight': 1,\n",
    "    'subsample': 0.8,\n",
    "    'colsample_bytree': 0.8,\n",
    "    'reg_alpha': 0.1,\n",
    "    'reg_lambda': 1,\n",
    "    'random_state': RANDOM_STATE,\n",
    "    'n_jobs': -1,\n",
    "    'tree_method': 'hist'\n",
    "}\n",
    "\n",
    "dtrain = xgb.DMatrix(X_train, label=y_train)\n",
    "dval = xgb.DMatrix(X_val, label=y_val)\n",
    "\n",
    "model_xgb = xgb.train(\n",
    "    xgb_params,\n",
    "    dtrain,\n",
    "    num_boost_round=1000,\n",
    "    evals=[(dtrain, 'train'), (dval, 'val')],\n",
    "    early_stopping_rounds=50,\n",
    "    verbose_eval=100\n",
    ")\n",
    "\n",
    "# Predictions\n",
    "y_pred_xgb_val = model_xgb.predict(dval)\n",
    "rmse_xgb = evaluate_model(\"XGBoost\", y_val, y_pred_xgb_val)"
   ]
  },
  {
   "cell_type": "markdown",
   "id": "fb1f77d7",
   "metadata": {},
   "source": [
    "### 3.3 CatBoost Model"
   ]
  },
  {
   "cell_type": "code",
   "execution_count": 14,
   "id": "6aa31248",
   "metadata": {},
   "outputs": [
    {
     "name": "stdout",
     "output_type": "stream",
     "text": [
      "Training CatBoost...\n",
      "0:\tlearn: 0.1595424\ttest: 0.1592767\tbest: 0.1592767 (0)\ttotal: 78.7ms\tremaining: 1m 18s\n",
      "100:\tlearn: 0.0567198\ttest: 0.0569469\tbest: 0.0569469 (100)\ttotal: 1.24s\tremaining: 11s\n",
      "200:\tlearn: 0.0564033\ttest: 0.0566727\tbest: 0.0566727 (200)\ttotal: 2.5s\tremaining: 9.95s\n",
      "300:\tlearn: 0.0562480\ttest: 0.0565509\tbest: 0.0565509 (300)\ttotal: 3.81s\tremaining: 8.85s\n",
      "400:\tlearn: 0.0561309\ttest: 0.0564692\tbest: 0.0564692 (400)\ttotal: 5.05s\tremaining: 7.55s\n",
      "500:\tlearn: 0.0560479\ttest: 0.0564254\tbest: 0.0564254 (500)\ttotal: 6.86s\tremaining: 6.83s\n",
      "600:\tlearn: 0.0559716\ttest: 0.0563824\tbest: 0.0563824 (600)\ttotal: 8.71s\tremaining: 5.79s\n",
      "700:\tlearn: 0.0559095\ttest: 0.0563573\tbest: 0.0563573 (700)\ttotal: 10.3s\tremaining: 4.4s\n",
      "800:\tlearn: 0.0558549\ttest: 0.0563350\tbest: 0.0563350 (800)\ttotal: 11.5s\tremaining: 2.87s\n",
      "900:\tlearn: 0.0558028\ttest: 0.0563149\tbest: 0.0563149 (900)\ttotal: 12.9s\tremaining: 1.42s\n",
      "999:\tlearn: 0.0557573\ttest: 0.0562980\tbest: 0.0562980 (999)\ttotal: 14.2s\tremaining: 0us\n",
      "\n",
      "bestTest = 0.05629802947\n",
      "bestIteration = 999\n",
      "\n",
      "\n",
      "CatBoost Results:\n",
      "  RMSE: 0.056298\n",
      "  MAE: 0.043733\n"
     ]
    }
   ],
   "source": [
    "from catboost import CatBoostRegressor, Pool\n",
    "\n",
    "print(\"Training CatBoost...\")\n",
    "\n",
    "model_cat = CatBoostRegressor(\n",
    "    iterations=1000,\n",
    "    learning_rate=0.05,\n",
    "    depth=6,\n",
    "    l2_leaf_reg=3,\n",
    "    random_state=RANDOM_STATE,\n",
    "    verbose=100,\n",
    "    early_stopping_rounds=50,\n",
    "    task_type='CPU'\n",
    ")\n",
    "\n",
    "model_cat.fit(\n",
    "    X_train, y_train,\n",
    "    eval_set=(X_val, y_val),\n",
    "    verbose=100\n",
    ")\n",
    "\n",
    "# Predictions\n",
    "y_pred_cat_val = model_cat.predict(X_val)\n",
    "rmse_cat = evaluate_model(\"CatBoost\", y_val, y_pred_cat_val)"
   ]
  },
  {
   "cell_type": "markdown",
   "id": "c8c5fc78",
   "metadata": {},
   "source": [
    "### 3.4 Ensemble of Gradient Boosting Models"
   ]
  },
  {
   "cell_type": "code",
   "execution_count": 10,
   "id": "2a3f5102",
   "metadata": {},
   "outputs": [
    {
     "name": "stdout",
     "output_type": "stream",
     "text": [
      "Creating Ensemble of GBMs...\n",
      "\n",
      "Ensemble (Simple Average) Results:\n",
      "  RMSE: 0.056218\n",
      "  MAE: 0.043651\n",
      "\n",
      "Optimal weights: LGB=0.3333, XGB=0.3335, CAT=0.3332\n",
      "\n",
      "Ensemble (Weighted) Results:\n",
      "  RMSE: 0.056218\n",
      "  MAE: 0.043651\n"
     ]
    }
   ],
   "source": [
    "# Simple average ensemble\n",
    "print(\"Creating Ensemble of GBMs...\")\n",
    "\n",
    "y_pred_ensemble_val = (y_pred_lgb_val + y_pred_xgb_val + y_pred_cat_val) / 3\n",
    "rmse_ensemble = evaluate_model(\"Ensemble (Simple Average)\", y_val, y_pred_ensemble_val)\n",
    "\n",
    "# Weighted ensemble (based on individual performance)\n",
    "weights = np.array([1/rmse_lgb, 1/rmse_xgb, 1/rmse_cat])\n",
    "weights = weights / weights.sum()\n",
    "\n",
    "print(f\"\\nOptimal weights: LGB={weights[0]:.4f}, XGB={weights[1]:.4f}, CAT={weights[2]:.4f}\")\n",
    "\n",
    "y_pred_weighted_val = (y_pred_lgb_val * weights[0] + \n",
    "                       y_pred_xgb_val * weights[1] + \n",
    "                       y_pred_cat_val * weights[2])\n",
    "rmse_weighted = evaluate_model(\"Ensemble (Weighted)\", y_val, y_pred_weighted_val)"
   ]
  },
  {
   "cell_type": "markdown",
   "id": "ea2803be",
   "metadata": {},
   "source": [
    "### 3.5 Neural Network (PyTorch)"
   ]
  },
  {
   "cell_type": "code",
   "execution_count": 6,
   "id": "93a8bdd9",
   "metadata": {},
   "outputs": [
    {
     "name": "stdout",
     "output_type": "stream",
     "text": [
      "Using device: mps\n",
      "Data prepared for Neural Network\n",
      "Input features: 22\n",
      "Training samples: 414203\n",
      "Batch size: 2048\n"
     ]
    }
   ],
   "source": [
    "import torch\n",
    "import torch.nn as nn\n",
    "import torch.optim as optim\n",
    "from torch.utils.data import DataLoader, TensorDataset\n",
    "from sklearn.preprocessing import StandardScaler\n",
    "from tqdm import tqdm\n",
    "\n",
    "# Setup device - Use Apple M1 GPU (MPS)\n",
    "device = torch.device('mps' if torch.backends.mps.is_available() else 'cpu')\n",
    "print(f\"Using device: {device}\")\n",
    "\n",
    "# Normalize features\n",
    "scaler = StandardScaler()\n",
    "X_train_scaled = scaler.fit_transform(X_train)\n",
    "X_val_scaled = scaler.transform(X_val)\n",
    "\n",
    "# Convert to tensors and move to device\n",
    "X_train_tensor = torch.FloatTensor(X_train_scaled).to(device)\n",
    "y_train_tensor = torch.FloatTensor(y_train).reshape(-1, 1).to(device)\n",
    "X_val_tensor = torch.FloatTensor(X_val_scaled).to(device)\n",
    "y_val_tensor = torch.FloatTensor(y_val).reshape(-1, 1).to(device)\n",
    "\n",
    "# Create data loaders\n",
    "train_dataset = TensorDataset(X_train_tensor, y_train_tensor)\n",
    "train_loader = DataLoader(train_dataset, batch_size=2048, shuffle=True)\n",
    "\n",
    "print(\"Data prepared for Neural Network\")\n",
    "print(f\"Input features: {X_train_scaled.shape[1]}\")\n",
    "print(f\"Training samples: {len(train_dataset)}\")\n",
    "print(f\"Batch size: 2048\")"
   ]
  },
  {
   "cell_type": "code",
   "execution_count": 7,
   "id": "22afc37c",
   "metadata": {},
   "outputs": [
    {
     "name": "stdout",
     "output_type": "stream",
     "text": [
      "Neural Network Architecture:\n",
      "TabularNN(\n",
      "  (network): Sequential(\n",
      "    (0): Linear(in_features=22, out_features=256, bias=True)\n",
      "    (1): BatchNorm1d(256, eps=1e-05, momentum=0.1, affine=True, track_running_stats=True)\n",
      "    (2): ReLU()\n",
      "    (3): Dropout(p=0.3, inplace=False)\n",
      "    (4): Linear(in_features=256, out_features=128, bias=True)\n",
      "    (5): BatchNorm1d(128, eps=1e-05, momentum=0.1, affine=True, track_running_stats=True)\n",
      "    (6): ReLU()\n",
      "    (7): Dropout(p=0.3, inplace=False)\n",
      "    (8): Linear(in_features=128, out_features=64, bias=True)\n",
      "    (9): BatchNorm1d(64, eps=1e-05, momentum=0.1, affine=True, track_running_stats=True)\n",
      "    (10): ReLU()\n",
      "    (11): Dropout(p=0.3, inplace=False)\n",
      "    (12): Linear(in_features=64, out_features=32, bias=True)\n",
      "    (13): BatchNorm1d(32, eps=1e-05, momentum=0.1, affine=True, track_running_stats=True)\n",
      "    (14): ReLU()\n",
      "    (15): Dropout(p=0.3, inplace=False)\n",
      "    (16): Linear(in_features=32, out_features=1, bias=True)\n",
      "  )\n",
      ")\n",
      "\n",
      "Total parameters: 50,113\n"
     ]
    }
   ],
   "source": [
    "# Define Neural Network Architecture\n",
    "class TabularNN(nn.Module):\n",
    "    def __init__(self, input_dim, hidden_dims=[256, 128, 64, 32]):\n",
    "        super(TabularNN, self).__init__()\n",
    "        \n",
    "        layers = []\n",
    "        prev_dim = input_dim\n",
    "        \n",
    "        for hidden_dim in hidden_dims:\n",
    "            layers.append(nn.Linear(prev_dim, hidden_dim))\n",
    "            layers.append(nn.BatchNorm1d(hidden_dim))\n",
    "            layers.append(nn.ReLU())\n",
    "            layers.append(nn.Dropout(0.3))\n",
    "            prev_dim = hidden_dim\n",
    "        \n",
    "        layers.append(nn.Linear(prev_dim, 1))\n",
    "        \n",
    "        self.network = nn.Sequential(*layers)\n",
    "    \n",
    "    def forward(self, x):\n",
    "        return self.network(x)\n",
    "\n",
    "# Initialize model\n",
    "input_dim = X_train_scaled.shape[1]\n",
    "model_nn = TabularNN(input_dim).to(device)\n",
    "\n",
    "print(\"Neural Network Architecture:\")\n",
    "print(model_nn)\n",
    "print(f\"\\nTotal parameters: {sum(p.numel() for p in model_nn.parameters()):,}\")"
   ]
  },
  {
   "cell_type": "code",
   "execution_count": 9,
   "id": "631ec538",
   "metadata": {},
   "outputs": [
    {
     "name": "stdout",
     "output_type": "stream",
     "text": [
      "Starting training on MPS (Apple M1 GPU)...\n",
      "\n"
     ]
    },
    {
     "name": "stderr",
     "output_type": "stream",
     "text": [
      "                                                                                     \r"
     ]
    },
    {
     "name": "stdout",
     "output_type": "stream",
     "text": [
      "Epoch 1/100 - Train Loss: 0.033271, Val Loss: 0.005945, Val RMSE: 0.077103\n"
     ]
    },
    {
     "name": "stderr",
     "output_type": "stream",
     "text": [
      "                                                                                     \r"
     ]
    },
    {
     "name": "stdout",
     "output_type": "stream",
     "text": [
      "Epoch 2/100 - Train Loss: 0.008704, Val Loss: 0.004036, Val RMSE: 0.063528\n"
     ]
    },
    {
     "name": "stderr",
     "output_type": "stream",
     "text": [
      "                                                                                     \r"
     ]
    },
    {
     "name": "stdout",
     "output_type": "stream",
     "text": [
      "Epoch 3/100 - Train Loss: 0.006454, Val Loss: 0.003711, Val RMSE: 0.060914\n"
     ]
    },
    {
     "name": "stderr",
     "output_type": "stream",
     "text": [
      "                                                                                     \r"
     ]
    },
    {
     "name": "stdout",
     "output_type": "stream",
     "text": [
      "Epoch 4/100 - Train Loss: 0.005685, Val Loss: 0.003723, Val RMSE: 0.061013\n"
     ]
    },
    {
     "name": "stderr",
     "output_type": "stream",
     "text": [
      "                                                                                     \r"
     ]
    },
    {
     "name": "stdout",
     "output_type": "stream",
     "text": [
      "Epoch 5/100 - Train Loss: 0.005357, Val Loss: 0.003700, Val RMSE: 0.060825\n"
     ]
    },
    {
     "name": "stderr",
     "output_type": "stream",
     "text": [
      "                                                                                     \r"
     ]
    },
    {
     "name": "stdout",
     "output_type": "stream",
     "text": [
      "Epoch 6/100 - Train Loss: 0.005155, Val Loss: 0.003549, Val RMSE: 0.059573\n"
     ]
    },
    {
     "name": "stderr",
     "output_type": "stream",
     "text": [
      "                                                                                     \r"
     ]
    },
    {
     "name": "stdout",
     "output_type": "stream",
     "text": [
      "Epoch 7/100 - Train Loss: 0.005027, Val Loss: 0.003555, Val RMSE: 0.059627\n"
     ]
    },
    {
     "name": "stderr",
     "output_type": "stream",
     "text": [
      "                                                                                     \r"
     ]
    },
    {
     "name": "stdout",
     "output_type": "stream",
     "text": [
      "Epoch 8/100 - Train Loss: 0.004945, Val Loss: 0.003477, Val RMSE: 0.058966\n"
     ]
    },
    {
     "name": "stderr",
     "output_type": "stream",
     "text": [
      "                                                                                     \r"
     ]
    },
    {
     "name": "stdout",
     "output_type": "stream",
     "text": [
      "Epoch 9/100 - Train Loss: 0.004850, Val Loss: 0.003556, Val RMSE: 0.059635\n"
     ]
    },
    {
     "name": "stderr",
     "output_type": "stream",
     "text": [
      "                                                                                      \r"
     ]
    },
    {
     "name": "stdout",
     "output_type": "stream",
     "text": [
      "Epoch 10/100 - Train Loss: 0.004797, Val Loss: 0.003428, Val RMSE: 0.058547\n"
     ]
    },
    {
     "name": "stderr",
     "output_type": "stream",
     "text": [
      "                                                                                      \r"
     ]
    },
    {
     "name": "stdout",
     "output_type": "stream",
     "text": [
      "Epoch 11/100 - Train Loss: 0.004729, Val Loss: 0.003405, Val RMSE: 0.058348\n"
     ]
    },
    {
     "name": "stderr",
     "output_type": "stream",
     "text": [
      "                                                                                      \r"
     ]
    },
    {
     "name": "stdout",
     "output_type": "stream",
     "text": [
      "Epoch 12/100 - Train Loss: 0.004706, Val Loss: 0.003460, Val RMSE: 0.058818\n"
     ]
    },
    {
     "name": "stderr",
     "output_type": "stream",
     "text": [
      "                                                                                      \r"
     ]
    },
    {
     "name": "stdout",
     "output_type": "stream",
     "text": [
      "Epoch 13/100 - Train Loss: 0.004645, Val Loss: 0.003466, Val RMSE: 0.058874\n"
     ]
    },
    {
     "name": "stderr",
     "output_type": "stream",
     "text": [
      "                                                                                      \r"
     ]
    },
    {
     "name": "stdout",
     "output_type": "stream",
     "text": [
      "Epoch 14/100 - Train Loss: 0.004613, Val Loss: 0.003384, Val RMSE: 0.058168\n"
     ]
    },
    {
     "name": "stderr",
     "output_type": "stream",
     "text": [
      "                                                                                      \r"
     ]
    },
    {
     "name": "stdout",
     "output_type": "stream",
     "text": [
      "Epoch 15/100 - Train Loss: 0.004574, Val Loss: 0.003385, Val RMSE: 0.058178\n"
     ]
    },
    {
     "name": "stderr",
     "output_type": "stream",
     "text": [
      "                                                                                      \r"
     ]
    },
    {
     "name": "stdout",
     "output_type": "stream",
     "text": [
      "Epoch 16/100 - Train Loss: 0.004534, Val Loss: 0.003398, Val RMSE: 0.058289\n"
     ]
    },
    {
     "name": "stderr",
     "output_type": "stream",
     "text": [
      "                                                                                      \r"
     ]
    },
    {
     "name": "stdout",
     "output_type": "stream",
     "text": [
      "Epoch 17/100 - Train Loss: 0.004488, Val Loss: 0.003337, Val RMSE: 0.057766\n"
     ]
    },
    {
     "name": "stderr",
     "output_type": "stream",
     "text": [
      "                                                                                      \r"
     ]
    },
    {
     "name": "stdout",
     "output_type": "stream",
     "text": [
      "Epoch 18/100 - Train Loss: 0.004454, Val Loss: 0.003314, Val RMSE: 0.057569\n"
     ]
    },
    {
     "name": "stderr",
     "output_type": "stream",
     "text": [
      "                                                                                      \r"
     ]
    },
    {
     "name": "stdout",
     "output_type": "stream",
     "text": [
      "Epoch 19/100 - Train Loss: 0.004427, Val Loss: 0.003313, Val RMSE: 0.057560\n"
     ]
    },
    {
     "name": "stderr",
     "output_type": "stream",
     "text": [
      "                                                                                      \r"
     ]
    },
    {
     "name": "stdout",
     "output_type": "stream",
     "text": [
      "Epoch 20/100 - Train Loss: 0.004398, Val Loss: 0.003340, Val RMSE: 0.057789\n"
     ]
    },
    {
     "name": "stderr",
     "output_type": "stream",
     "text": [
      "                                                                                      \r"
     ]
    },
    {
     "name": "stdout",
     "output_type": "stream",
     "text": [
      "Epoch 21/100 - Train Loss: 0.004388, Val Loss: 0.003314, Val RMSE: 0.057563\n"
     ]
    },
    {
     "name": "stderr",
     "output_type": "stream",
     "text": [
      "                                                                                      \r"
     ]
    },
    {
     "name": "stdout",
     "output_type": "stream",
     "text": [
      "Epoch 22/100 - Train Loss: 0.004353, Val Loss: 0.003358, Val RMSE: 0.057946\n"
     ]
    },
    {
     "name": "stderr",
     "output_type": "stream",
     "text": [
      "                                                                                      \r"
     ]
    },
    {
     "name": "stdout",
     "output_type": "stream",
     "text": [
      "Epoch 23/100 - Train Loss: 0.004357, Val Loss: 0.003332, Val RMSE: 0.057726\n"
     ]
    },
    {
     "name": "stderr",
     "output_type": "stream",
     "text": [
      "                                                                                      \r"
     ]
    },
    {
     "name": "stdout",
     "output_type": "stream",
     "text": [
      "Epoch 24/100 - Train Loss: 0.004355, Val Loss: 0.003283, Val RMSE: 0.057302\n"
     ]
    },
    {
     "name": "stderr",
     "output_type": "stream",
     "text": [
      "                                                                                      \r"
     ]
    },
    {
     "name": "stdout",
     "output_type": "stream",
     "text": [
      "Epoch 25/100 - Train Loss: 0.004343, Val Loss: 0.003340, Val RMSE: 0.057791\n"
     ]
    },
    {
     "name": "stderr",
     "output_type": "stream",
     "text": [
      "                                                                                      \r"
     ]
    },
    {
     "name": "stdout",
     "output_type": "stream",
     "text": [
      "Epoch 26/100 - Train Loss: 0.004321, Val Loss: 0.003264, Val RMSE: 0.057136\n"
     ]
    },
    {
     "name": "stderr",
     "output_type": "stream",
     "text": [
      "                                                                                      \r"
     ]
    },
    {
     "name": "stdout",
     "output_type": "stream",
     "text": [
      "Epoch 27/100 - Train Loss: 0.004317, Val Loss: 0.003281, Val RMSE: 0.057281\n"
     ]
    },
    {
     "name": "stderr",
     "output_type": "stream",
     "text": [
      "                                                                                      \r"
     ]
    },
    {
     "name": "stdout",
     "output_type": "stream",
     "text": [
      "Epoch 28/100 - Train Loss: 0.004304, Val Loss: 0.003270, Val RMSE: 0.057186\n"
     ]
    },
    {
     "name": "stderr",
     "output_type": "stream",
     "text": [
      "                                                                                      \r"
     ]
    },
    {
     "name": "stdout",
     "output_type": "stream",
     "text": [
      "Epoch 29/100 - Train Loss: 0.004290, Val Loss: 0.003267, Val RMSE: 0.057155\n"
     ]
    },
    {
     "name": "stderr",
     "output_type": "stream",
     "text": [
      "                                                                                      \r"
     ]
    },
    {
     "name": "stdout",
     "output_type": "stream",
     "text": [
      "Epoch 30/100 - Train Loss: 0.004293, Val Loss: 0.003277, Val RMSE: 0.057246\n"
     ]
    },
    {
     "name": "stderr",
     "output_type": "stream",
     "text": [
      "                                                                                      \r"
     ]
    },
    {
     "name": "stdout",
     "output_type": "stream",
     "text": [
      "Epoch 31/100 - Train Loss: 0.004308, Val Loss: 0.003270, Val RMSE: 0.057186\n"
     ]
    },
    {
     "name": "stderr",
     "output_type": "stream",
     "text": [
      "                                                                                      \r"
     ]
    },
    {
     "name": "stdout",
     "output_type": "stream",
     "text": [
      "Epoch 32/100 - Train Loss: 0.004269, Val Loss: 0.003286, Val RMSE: 0.057323\n"
     ]
    },
    {
     "name": "stderr",
     "output_type": "stream",
     "text": [
      "                                                                                      \r"
     ]
    },
    {
     "name": "stdout",
     "output_type": "stream",
     "text": [
      "Epoch 33/100 - Train Loss: 0.004237, Val Loss: 0.003253, Val RMSE: 0.057037\n"
     ]
    },
    {
     "name": "stderr",
     "output_type": "stream",
     "text": [
      "                                                                                      \r"
     ]
    },
    {
     "name": "stdout",
     "output_type": "stream",
     "text": [
      "Epoch 34/100 - Train Loss: 0.004243, Val Loss: 0.003242, Val RMSE: 0.056937\n"
     ]
    },
    {
     "name": "stderr",
     "output_type": "stream",
     "text": [
      "                                                                                      \r"
     ]
    },
    {
     "name": "stdout",
     "output_type": "stream",
     "text": [
      "Epoch 35/100 - Train Loss: 0.004235, Val Loss: 0.003262, Val RMSE: 0.057111\n"
     ]
    },
    {
     "name": "stderr",
     "output_type": "stream",
     "text": [
      "                                                                                      \r"
     ]
    },
    {
     "name": "stdout",
     "output_type": "stream",
     "text": [
      "Epoch 36/100 - Train Loss: 0.004238, Val Loss: 0.003259, Val RMSE: 0.057088\n"
     ]
    },
    {
     "name": "stderr",
     "output_type": "stream",
     "text": [
      "                                                                                      \r"
     ]
    },
    {
     "name": "stdout",
     "output_type": "stream",
     "text": [
      "Epoch 37/100 - Train Loss: 0.004225, Val Loss: 0.003279, Val RMSE: 0.057260\n"
     ]
    },
    {
     "name": "stderr",
     "output_type": "stream",
     "text": [
      "                                                                                      \r"
     ]
    },
    {
     "name": "stdout",
     "output_type": "stream",
     "text": [
      "Epoch 38/100 - Train Loss: 0.004211, Val Loss: 0.003293, Val RMSE: 0.057382\n"
     ]
    },
    {
     "name": "stderr",
     "output_type": "stream",
     "text": [
      "                                                                                      \r"
     ]
    },
    {
     "name": "stdout",
     "output_type": "stream",
     "text": [
      "Epoch 39/100 - Train Loss: 0.004205, Val Loss: 0.003255, Val RMSE: 0.057054\n"
     ]
    },
    {
     "name": "stderr",
     "output_type": "stream",
     "text": [
      "                                                                                      \r"
     ]
    },
    {
     "name": "stdout",
     "output_type": "stream",
     "text": [
      "Epoch 40/100 - Train Loss: 0.004219, Val Loss: 0.003320, Val RMSE: 0.057622\n"
     ]
    },
    {
     "name": "stderr",
     "output_type": "stream",
     "text": [
      "                                                                                      \r"
     ]
    },
    {
     "name": "stdout",
     "output_type": "stream",
     "text": [
      "Epoch 41/100 - Train Loss: 0.004200, Val Loss: 0.003268, Val RMSE: 0.057163\n"
     ]
    },
    {
     "name": "stderr",
     "output_type": "stream",
     "text": [
      "                                                                                      \r"
     ]
    },
    {
     "name": "stdout",
     "output_type": "stream",
     "text": [
      "Epoch 42/100 - Train Loss: 0.004189, Val Loss: 0.003271, Val RMSE: 0.057192\n"
     ]
    },
    {
     "name": "stderr",
     "output_type": "stream",
     "text": [
      "                                                                                      \r"
     ]
    },
    {
     "name": "stdout",
     "output_type": "stream",
     "text": [
      "Epoch 43/100 - Train Loss: 0.004190, Val Loss: 0.003254, Val RMSE: 0.057043\n"
     ]
    },
    {
     "name": "stderr",
     "output_type": "stream",
     "text": [
      "                                                                                      \r"
     ]
    },
    {
     "name": "stdout",
     "output_type": "stream",
     "text": [
      "Epoch 44/100 - Train Loss: 0.004194, Val Loss: 0.003258, Val RMSE: 0.057079\n"
     ]
    },
    {
     "name": "stderr",
     "output_type": "stream",
     "text": [
      "                                                                                      \r"
     ]
    },
    {
     "name": "stdout",
     "output_type": "stream",
     "text": [
      "Epoch 45/100 - Train Loss: 0.004200, Val Loss: 0.003245, Val RMSE: 0.056966\n"
     ]
    },
    {
     "name": "stderr",
     "output_type": "stream",
     "text": [
      "                                                                                      \r"
     ]
    },
    {
     "name": "stdout",
     "output_type": "stream",
     "text": [
      "Epoch 46/100 - Train Loss: 0.004194, Val Loss: 0.003257, Val RMSE: 0.057067\n"
     ]
    },
    {
     "name": "stderr",
     "output_type": "stream",
     "text": [
      "                                                                                      \r"
     ]
    },
    {
     "name": "stdout",
     "output_type": "stream",
     "text": [
      "Epoch 47/100 - Train Loss: 0.004182, Val Loss: 0.003279, Val RMSE: 0.057266\n"
     ]
    },
    {
     "name": "stderr",
     "output_type": "stream",
     "text": [
      "                                                                                      \r"
     ]
    },
    {
     "name": "stdout",
     "output_type": "stream",
     "text": [
      "Epoch 48/100 - Train Loss: 0.004192, Val Loss: 0.003250, Val RMSE: 0.057005\n"
     ]
    },
    {
     "name": "stderr",
     "output_type": "stream",
     "text": [
      "                                                                                      "
     ]
    },
    {
     "name": "stdout",
     "output_type": "stream",
     "text": [
      "Epoch 49/100 - Train Loss: 0.004184, Val Loss: 0.003272, Val RMSE: 0.057204\n",
      "\n",
      "Early stopping triggered after 49 epochs\n",
      "\n",
      "Best Val RMSE: 0.056937\n"
     ]
    },
    {
     "name": "stderr",
     "output_type": "stream",
     "text": [
      "\r"
     ]
    }
   ],
   "source": [
    "# Training setup\n",
    "criterion = nn.MSELoss()\n",
    "optimizer = optim.AdamW(model_nn.parameters(), lr=0.001, weight_decay=1e-5)\n",
    "scheduler = optim.lr_scheduler.ReduceLROnPlateau(optimizer, mode='min', factor=0.5, patience=5)\n",
    "\n",
    "num_epochs = 100\n",
    "best_val_loss = float('inf')\n",
    "patience = 15\n",
    "patience_counter = 0\n",
    "\n",
    "train_losses = []\n",
    "val_losses = []\n",
    "\n",
    "print(\"Starting training on MPS (Apple M1 GPU)...\\n\")\n",
    "\n",
    "# Training loop\n",
    "for epoch in range(num_epochs):\n",
    "    # Training phase\n",
    "    model_nn.train()\n",
    "    epoch_loss = 0\n",
    "    \n",
    "    # Use tqdm for batch progress\n",
    "    train_pbar = tqdm(train_loader, desc=f'Epoch {epoch+1}/{num_epochs} [Train]', leave=False)\n",
    "    for batch_X, batch_y in train_pbar:\n",
    "        optimizer.zero_grad()\n",
    "        outputs = model_nn(batch_X)\n",
    "        loss = criterion(outputs, batch_y)\n",
    "        loss.backward()\n",
    "        optimizer.step()\n",
    "        \n",
    "        epoch_loss += loss.item()\n",
    "        train_pbar.set_postfix({'loss': f'{loss.item():.6f}'})\n",
    "    \n",
    "    avg_train_loss = epoch_loss / len(train_loader)\n",
    "    train_losses.append(avg_train_loss)\n",
    "    \n",
    "    # Validation phase\n",
    "    model_nn.eval()\n",
    "    with torch.no_grad():\n",
    "        val_outputs = model_nn(X_val_tensor)\n",
    "        val_loss = criterion(val_outputs, y_val_tensor)\n",
    "        val_rmse = torch.sqrt(val_loss)\n",
    "    \n",
    "    val_losses.append(val_loss.item())\n",
    "    scheduler.step(val_loss)\n",
    "    \n",
    "    # Print progress\n",
    "    print(f'Epoch {epoch+1}/{num_epochs} - Train Loss: {avg_train_loss:.6f}, Val Loss: {val_loss.item():.6f}, Val RMSE: {val_rmse.item():.6f}')\n",
    "    \n",
    "    # Early stopping\n",
    "    if val_loss < best_val_loss:\n",
    "        best_val_loss = val_loss\n",
    "        patience_counter = 0\n",
    "        # Save best model\n",
    "        best_model_state = model_nn.state_dict().copy()\n",
    "    else:\n",
    "        patience_counter += 1\n",
    "        if patience_counter >= patience:\n",
    "            print(f\"\\nEarly stopping triggered after {epoch+1} epochs\")\n",
    "            break\n",
    "\n",
    "# Load best model\n",
    "model_nn.load_state_dict(best_model_state)\n",
    "print(f\"\\nBest Val RMSE: {torch.sqrt(best_val_loss).item():.6f}\")"
   ]
  },
  {
   "cell_type": "code",
   "execution_count": 10,
   "id": "60000b8c",
   "metadata": {},
   "outputs": [
    {
     "name": "stdout",
     "output_type": "stream",
     "text": [
      "\n",
      "Neural Network (PyTorch) Results:\n",
      "  RMSE: 0.057204\n",
      "  MAE: 0.044545\n"
     ]
    },
    {
     "data": {
      "image/png": "[encoded data removed]",
      "text/plain": [
       "<Figure size 1500x500 with 2 Axes>"
      ]
     },
     "metadata": {},
     "output_type": "display_data"
    }
   ],
   "source": [
    "# Evaluate Neural Network\n",
    "model_nn.eval()\n",
    "with torch.no_grad():\n",
    "    y_pred_nn_val = model_nn(X_val_tensor).cpu().numpy().flatten()\n",
    "\n",
    "rmse_nn = evaluate_model(\"Neural Network (PyTorch)\", y_val, y_pred_nn_val)\n",
    "\n",
    "# Plot training history\n",
    "fig, axes = plt.subplots(1, 2, figsize=(15, 5))\n",
    "\n",
    "axes[0].plot(train_losses, label='Train Loss')\n",
    "axes[0].plot(val_losses, label='Val Loss')\n",
    "axes[0].set_xlabel('Epoch')\n",
    "axes[0].set_ylabel('Loss')\n",
    "axes[0].set_title('Training History')\n",
    "axes[0].legend()\n",
    "axes[0].grid(True)\n",
    "\n",
    "# Convert to RMSE for better visualization\n",
    "train_rmse = [np.sqrt(loss) for loss in train_losses]\n",
    "val_rmse = [np.sqrt(loss) for loss in val_losses]\n",
    "axes[1].plot(train_rmse, label='Train RMSE')\n",
    "axes[1].plot(val_rmse, label='Val RMSE')\n",
    "axes[1].axhline(y=0.05, color='r', linestyle='--', label='Target RMSE')\n",
    "axes[1].set_xlabel('Epoch')\n",
    "axes[1].set_ylabel('RMSE')\n",
    "axes[1].set_title('RMSE History')\n",
    "axes[1].legend()\n",
    "axes[1].grid(True)\n",
    "\n",
    "plt.tight_layout()\n",
    "plt.show()"
   ]
  },
  {
   "cell_type": "markdown",
   "id": "902b29b1",
   "metadata": {},
   "source": [
    "### 3.6 Model Summary & Advanced Ensemble"
   ]
  },
  {
   "cell_type": "code",
   "execution_count": 15,
   "id": "3bdfb59c",
   "metadata": {},
   "outputs": [
    {
     "name": "stdout",
     "output_type": "stream",
     "text": [
      "================================================================================\n",
      "MODEL PERFORMANCE SUMMARY\n",
      "================================================================================\n",
      "                              rmse       mae\n",
      "XGBoost                   0.056236  0.043656\n",
      "LightGBM                  0.056269  0.043676\n",
      "CatBoost                  0.056298  0.043733\n",
      "Neural Network (PyTorch)  0.057204  0.044545\n",
      "================================================================================\n",
      "\n",
      "Predictions matrix shape: (103551, 4)\n"
     ]
    }
   ],
   "source": [
    "# Display all model results\n",
    "print(\"=\"*80)\n",
    "print(\"MODEL PERFORMANCE SUMMARY\")\n",
    "print(\"=\"*80)\n",
    "results_df = pd.DataFrame(model_results).T.sort_values('rmse')\n",
    "print(results_df)\n",
    "print(\"=\"*80)\n",
    "\n",
    "# Create predictions matrix for optimization\n",
    "predictions_matrix = np.column_stack([\n",
    "    y_pred_lgb_val,\n",
    "    y_pred_xgb_val,\n",
    "    y_pred_cat_val,\n",
    "    y_pred_nn_val\n",
    "])\n",
    "\n",
    "print(f\"\\nPredictions matrix shape: {predictions_matrix.shape}\")"
   ]
  },
  {
   "cell_type": "code",
   "execution_count": 16,
   "id": "482fa812",
   "metadata": {},
   "outputs": [
    {
     "name": "stdout",
     "output_type": "stream",
     "text": [
      "Optimizing ensemble weights...\n",
      "\n",
      "Optimal weights:\n",
      "  LightGBM: 0.2500\n",
      "  XGBoost:  0.2500\n",
      "  CatBoost: 0.2500\n",
      "  Neural Network: 0.2500\n",
      "\n",
      "Optimized Ensemble Results:\n",
      "  RMSE: 0.056291\n",
      "  MAE: 0.043730\n",
      "\n",
      "🎯 Improvement over best single model: -0.000056\n"
     ]
    }
   ],
   "source": [
    "# Optimize ensemble weights using scipy\n",
    "from scipy.optimize import minimize\n",
    "\n",
    "def ensemble_rmse(weights, predictions, y_true):\n",
    "    \"\"\"Calculate RMSE for weighted ensemble\"\"\"\n",
    "    weighted_pred = np.sum(predictions * weights.reshape(1, -1), axis=1)\n",
    "    return np.sqrt(mean_squared_error(y_true, weighted_pred))\n",
    "\n",
    "# Initial weights (equal)\n",
    "initial_weights = np.array([0.25, 0.25, 0.25, 0.25])\n",
    "\n",
    "# Constraints: weights sum to 1 and are non-negative\n",
    "constraints = ({'type': 'eq', 'fun': lambda w: np.sum(w) - 1})\n",
    "bounds = [(0, 1) for _ in range(4)]\n",
    "\n",
    "# Optimize\n",
    "print(\"Optimizing ensemble weights...\")\n",
    "result = minimize(\n",
    "    ensemble_rmse,\n",
    "    initial_weights,\n",
    "    args=(predictions_matrix, y_val),\n",
    "    method='SLSQP',\n",
    "    bounds=bounds,\n",
    "    constraints=constraints\n",
    ")\n",
    "\n",
    "optimal_weights = result.x\n",
    "print(f\"\\nOptimal weights:\")\n",
    "print(f\"  LightGBM: {optimal_weights[0]:.4f}\")\n",
    "print(f\"  XGBoost:  {optimal_weights[1]:.4f}\")\n",
    "print(f\"  CatBoost: {optimal_weights[2]:.4f}\")\n",
    "print(f\"  Neural Network: {optimal_weights[3]:.4f}\")\n",
    "\n",
    "# Create optimized ensemble\n",
    "y_pred_optimized = np.sum(predictions_matrix * optimal_weights.reshape(1, -1), axis=1)\n",
    "rmse_optimized = evaluate_model(\"Optimized Ensemble\", y_val, y_pred_optimized)\n",
    "\n",
    "print(f\"\\n🎯 Improvement over best single model: {(rmse_xgb - rmse_optimized):.6f}\")"
   ]
  },
  {
   "cell_type": "markdown",
   "id": "1a5e8650",
   "metadata": {},
   "source": [
    "## 4. Advanced Strategies to Reach RMSE < 0.05\n",
    "\n",
    "Let's try:\n",
    "1. More aggressive hyperparameter tuning\n",
    "2. Stacking with a meta-learner\n",
    "3. Additional feature engineering"
   ]
  },
  {
   "cell_type": "code",
   "execution_count": 17,
   "id": "186a0628",
   "metadata": {},
   "outputs": [
    {
     "name": "stdout",
     "output_type": "stream",
     "text": [
      "Training LightGBM with aggressive hyperparameters...\n",
      "Training until validation scores don't improve for 100 rounds\n",
      "[500]\ttrain's rmse: 0.0562419\tval's rmse: 0.0565762\n",
      "[1000]\ttrain's rmse: 0.0559885\tval's rmse: 0.0563623\n",
      "[1500]\ttrain's rmse: 0.0559738\tval's rmse: 0.0563512\n",
      "[2000]\ttrain's rmse: 0.0559689\tval's rmse: 0.0563475\n",
      "[2500]\ttrain's rmse: 0.055965\tval's rmse: 0.0563445\n",
      "[3000]\ttrain's rmse: 0.0559627\tval's rmse: 0.0563427\n",
      "[3500]\ttrain's rmse: 0.0559609\tval's rmse: 0.056341\n",
      "[4000]\ttrain's rmse: 0.0559593\tval's rmse: 0.0563401\n",
      "Early stopping, best iteration is:\n",
      "[4030]\ttrain's rmse: 0.0559591\tval's rmse: 0.0563399\n",
      "\n",
      "LightGBM V2 (Tuned) Results:\n",
      "  RMSE: 0.056340\n",
      "  MAE: 0.043735\n"
     ]
    }
   ],
   "source": [
    "# Let's try tuning LightGBM more aggressively with lower learning rate and more trees\n",
    "print(\"Training LightGBM with aggressive hyperparameters...\")\n",
    "\n",
    "lgb_params_v2 = {\n",
    "    'objective': 'regression',\n",
    "    'metric': 'rmse',\n",
    "    'boosting_type': 'gbdt',\n",
    "    'learning_rate': 0.01,  # Lower learning rate\n",
    "    'num_leaves': 64,        # More leaves\n",
    "    'max_depth': 8,\n",
    "    'min_child_samples': 10,\n",
    "    'subsample': 0.7,\n",
    "    'subsample_freq': 1,\n",
    "    'colsample_bytree': 0.7,\n",
    "    'reg_alpha': 0.5,\n",
    "    'reg_lambda': 0.5,\n",
    "    'min_split_gain': 0.01,\n",
    "    'random_state': RANDOM_STATE,\n",
    "    'n_jobs': -1,\n",
    "    'verbose': -1\n",
    "}\n",
    "\n",
    "lgb_train_v2 = lgb.Dataset(X_train, y_train)\n",
    "lgb_val_v2 = lgb.Dataset(X_val, y_val, reference=lgb_train_v2)\n",
    "\n",
    "model_lgb_v2 = lgb.train(\n",
    "    lgb_params_v2,\n",
    "    lgb_train_v2,\n",
    "    num_boost_round=5000,\n",
    "    valid_sets=[lgb_train_v2, lgb_val_v2],\n",
    "    valid_names=['train', 'val'],\n",
    "    callbacks=[\n",
    "        lgb.early_stopping(stopping_rounds=100),\n",
    "        lgb.log_evaluation(period=500)\n",
    "    ]\n",
    ")\n",
    "\n",
    "y_pred_lgb_v2_val = model_lgb_v2.predict(X_val, num_iteration=model_lgb_v2.best_iteration)\n",
    "rmse_lgb_v2 = evaluate_model(\"LightGBM V2 (Tuned)\", y_val, y_pred_lgb_v2_val)"
   ]
  },
  {
   "cell_type": "markdown",
   "id": "cfedae66",
   "metadata": {},
   "source": [
    "## 5. Generate Test Predictions & Submission\n",
    "\n",
    "Let's create predictions on the test set using our best models."
   ]
  },
  {
   "cell_type": "code",
   "execution_count": 18,
   "id": "3816e6c1",
   "metadata": {},
   "outputs": [
    {
     "name": "stdout",
     "output_type": "stream",
     "text": [
      "Generating test predictions...\n",
      "Test predictions generated!\n",
      "Test predictions shape: (172585,)\n",
      "Test predictions range: [-0.0124, 0.8856]\n"
     ]
    }
   ],
   "source": [
    "# Generate test predictions from all models\n",
    "print(\"Generating test predictions...\")\n",
    "\n",
    "# LightGBM\n",
    "y_pred_test_lgb = model_lgb.predict(X_test, num_iteration=model_lgb.best_iteration)\n",
    "\n",
    "# XGBoost\n",
    "dtest = xgb.DMatrix(X_test)\n",
    "y_pred_test_xgb = model_xgb.predict(dtest)\n",
    "\n",
    "# CatBoost\n",
    "y_pred_test_cat = model_cat.predict(X_test)\n",
    "\n",
    "# Neural Network\n",
    "X_test_scaled = scaler.transform(X_test)\n",
    "X_test_tensor = torch.FloatTensor(X_test_scaled).to(device)\n",
    "model_nn.eval()\n",
    "with torch.no_grad():\n",
    "    y_pred_test_nn = model_nn(X_test_tensor).cpu().numpy().flatten()\n",
    "\n",
    "# LightGBM V2\n",
    "y_pred_test_lgb_v2 = model_lgb_v2.predict(X_test, num_iteration=model_lgb_v2.best_iteration)\n",
    "\n",
    "# Create ensemble (equal weights for top 3 models)\n",
    "y_pred_test_ensemble = (y_pred_test_lgb + y_pred_test_xgb + y_pred_test_cat) / 3\n",
    "\n",
    "print(\"Test predictions generated!\")\n",
    "print(f\"Test predictions shape: {y_pred_test_ensemble.shape}\")\n",
    "print(f\"Test predictions range: [{y_pred_test_ensemble.min():.4f}, {y_pred_test_ensemble.max():.4f}]\")"
   ]
  },
  {
   "cell_type": "code",
   "execution_count": 19,
   "id": "d1872091",
   "metadata": {},
   "outputs": [
    {
     "name": "stdout",
     "output_type": "stream",
     "text": [
      "Submission saved to: /Users/dustinober/Kaggle/submission_ensemble_advanced.csv\n",
      "\n",
      "Submission preview:\n",
      "       id  accident_risk\n",
      "0  517754       0.292239\n",
      "1  517755       0.122369\n",
      "2  517756       0.190776\n",
      "3  517757       0.311948\n",
      "4  517758       0.391470\n",
      "5  517759       0.458936\n",
      "6  517760       0.258036\n",
      "7  517761       0.201709\n",
      "8  517762       0.366754\n",
      "9  517763       0.329558\n",
      "\n",
      "Submission statistics:\n",
      "count    172585.000000\n",
      "mean          0.351729\n",
      "std           0.156791\n",
      "min           0.000000\n",
      "25%           0.241560\n",
      "50%           0.337087\n",
      "75%           0.453865\n",
      "max           0.885649\n",
      "Name: accident_risk, dtype: float64\n"
     ]
    }
   ],
   "source": [
    "# Create submission file\n",
    "submission = pd.DataFrame({\n",
    "    'id': test_fe['id'],\n",
    "    'accident_risk': y_pred_test_ensemble\n",
    "})\n",
    "\n",
    "# Clip predictions to valid range [0, 1]\n",
    "submission['accident_risk'] = submission['accident_risk'].clip(0, 1)\n",
    "\n",
    "# Save submission\n",
    "submission_path = '/Users/dustinober/Kaggle/submission_ensemble_advanced.csv'\n",
    "submission.to_csv(submission_path, index=False)\n",
    "\n",
    "print(f\"Submission saved to: {submission_path}\")\n",
    "print(f\"\\nSubmission preview:\")\n",
    "print(submission.head(10))\n",
    "print(f\"\\nSubmission statistics:\")\n",
    "print(submission['accident_risk'].describe())"
   ]
  },
  {
   "cell_type": "markdown",
   "id": "0fc6d60f",
   "metadata": {},
   "source": [
    "## 6. Summary & Next Steps to Reach RMSE < 0.05\n",
    "\n",
    "### Current Performance:\n",
    "- **Best Single Model**: XGBoost with RMSE: 0.0562\n",
    "- **Best Ensemble**: Equal-weighted GBM ensemble with RMSE: 0.0563\n",
    "- **Neural Network**: RMSE: 0.0572 (trained on Apple M1 GPU)\n",
    "\n",
    "### What We've Tried:\n",
    "✅ LightGBM, XGBoost, CatBoost\n",
    "✅ Neural Network (PyTorch on MPS)\n",
    "✅ Feature engineering (22 features from 14 original)\n",
    "✅ Ensemble methods (simple average, weighted, optimized)\n",
    "✅ Hyperparameter tuning\n",
    "\n",
    "### Recommendations to Reach RMSE < 0.05:\n",
    "\n",
    "1. **More Feature Engineering**:\n",
    "   - Target encoding for categorical variables\n",
    "   - Frequency encoding\n",
    "   - Interaction features between weather and lighting\n",
    "   - Time-based aggregations\n",
    "   - Distance/proximity features if geographic data available\n",
    "\n",
    "2. **Advanced Ensembling**:\n",
    "   - Stacking with meta-learner (Ridge, Lasso, or another GBM on top)\n",
    "   - Blending with different CV folds\n",
    "   - Use out-of-fold predictions\n",
    "\n",
    "3. **Model Improvements**:\n",
    "   - Bayesian optimization for hyperparameters (Optuna)\n",
    "   - Try TabNet or other tabular deep learning architectures\n",
    "   - Pseudo-labeling or semi-supervised learning\n",
    "\n",
    "4. **Data Quality**:\n",
    "   - Check for outliers and handle them\n",
    "   - Look for data leakage opportunities\n",
    "   - Cross-validate with different random seeds\n",
    "\n",
    "5. **Domain Knowledge**:\n",
    "   - Incorporate domain-specific features about accident risk\n",
    "   - Use external datasets if allowed"
   ]
  },
  {
   "cell_type": "markdown",
   "id": "fb2e82a0",
   "metadata": {},
   "source": [
    "## 7. Advanced Feature Engineering - Target Encoding & Interactions\n",
    "\n",
    "Let's create more sophisticated features using target encoding and advanced interactions."
   ]
  },
  {
   "cell_type": "code",
   "execution_count": 20,
   "id": "38a3c897",
   "metadata": {},
   "outputs": [
    {
     "name": "stdout",
     "output_type": "stream",
     "text": [
      "================================================================================\n",
      "CREATING ADVANCED FEATURES\n",
      "================================================================================\n",
      "Applying target encoding with 5-fold CV...\n",
      "Creating frequency encodings...\n",
      "Creating complex interaction features...\n",
      "Advanced features created!\n",
      "Train shape: (517754, 45)\n",
      "Test shape: (172585, 44)\n"
     ]
    }
   ],
   "source": [
    "from sklearn.model_selection import KFold\n",
    "\n",
    "def create_advanced_features(df_train, df_test, target=None):\n",
    "    \"\"\"Create advanced features with target encoding\"\"\"\n",
    "    \n",
    "    # Make copies\n",
    "    train_adv = df_train.copy()\n",
    "    test_adv = df_test.copy()\n",
    "    \n",
    "    # Categorical columns for target encoding\n",
    "    cat_cols = ['road_type', 'lighting', 'weather', 'time_of_day']\n",
    "    \n",
    "    if target is not None:\n",
    "        # Manual target encoding with cross-validation to prevent overfitting\n",
    "        print(\"Applying target encoding with 5-fold CV...\")\n",
    "        for col in cat_cols:\n",
    "            # For train: use cross-validation\n",
    "            kf = KFold(n_splits=5, shuffle=True, random_state=RANDOM_STATE)\n",
    "            train_adv[f'{col}_target_enc'] = 0.0\n",
    "            \n",
    "            for fold, (train_idx, val_idx) in enumerate(kf.split(train_adv)):\n",
    "                # Calculate mean target for each category on train fold\n",
    "                target_mean = train_adv.iloc[train_idx].groupby(col)[target.name].mean()\n",
    "                global_mean = target.iloc[train_idx].mean()\n",
    "                \n",
    "                # Apply smoothing\n",
    "                train_adv.loc[val_idx, f'{col}_target_enc'] = train_adv.loc[val_idx, col].map(target_mean).fillna(global_mean)\n",
    "            \n",
    "            # For test: use full train data\n",
    "            target_mean_full = train_adv.groupby(col)[target.name].mean()\n",
    "            global_mean_full = target.mean()\n",
    "            test_adv[f'{col}_target_enc'] = test_adv[col].map(target_mean_full).fillna(global_mean_full)\n",
    "    \n",
    "    # Frequency encoding\n",
    "    print(\"Creating frequency encodings...\")\n",
    "    for col in cat_cols:\n",
    "        freq = train_adv[col].value_counts(normalize=True).to_dict()\n",
    "        train_adv[f'{col}_freq'] = train_adv[col].map(freq)\n",
    "        test_adv[f'{col}_freq'] = test_adv[col].map(freq).fillna(0)\n",
    "    \n",
    "    # Complex interactions\n",
    "    print(\"Creating complex interaction features...\")\n",
    "    \n",
    "    # Weather + Lighting combinations\n",
    "    train_adv['weather_lighting'] = train_adv['weather'].astype(str) + '_' + train_adv['lighting'].astype(str)\n",
    "    test_adv['weather_lighting'] = test_adv['weather'].astype(str) + '_' + test_adv['lighting'].astype(str)\n",
    "    \n",
    "    # Road type + Time of day\n",
    "    train_adv['road_time'] = train_adv['road_type'].astype(str) + '_' + train_adv['time_of_day'].astype(str)\n",
    "    test_adv['road_time'] = test_adv['road_type'].astype(str) + '_' + test_adv['time_of_day'].astype(str)\n",
    "    \n",
    "    # Encode new combinations\n",
    "    for col in ['weather_lighting', 'road_time']:\n",
    "        le = LabelEncoder()\n",
    "        train_adv[f'{col}_encoded'] = le.fit_transform(train_adv[col])\n",
    "        test_adv[f'{col}_encoded'] = le.transform(test_adv[col])\n",
    "    \n",
    "    # Statistical features\n",
    "    train_adv['curvature_bins'] = pd.cut(train_adv['curvature'], bins=10, labels=False)\n",
    "    test_adv['curvature_bins'] = pd.cut(test_adv['curvature'], bins=10, labels=False)\n",
    "    \n",
    "    train_adv['speed_bins'] = pd.cut(train_adv['speed_limit'], bins=5, labels=False)\n",
    "    test_adv['speed_bins'] = pd.cut(test_adv['speed_limit'], bins=5, labels=False)\n",
    "    \n",
    "    # More polynomial features\n",
    "    train_adv['curvature_cube'] = train_adv['curvature'] ** 3\n",
    "    test_adv['curvature_cube'] = test_adv['curvature'] ** 3\n",
    "    \n",
    "    # Ratio features\n",
    "    train_adv['accidents_per_speed'] = train_adv['num_reported_accidents'] / (train_adv['speed_limit'] + 1)\n",
    "    test_adv['accidents_per_speed'] = test_adv['num_reported_accidents'] / (test_adv['speed_limit'] + 1)\n",
    "    \n",
    "    # Risk interaction features\n",
    "    train_adv['high_risk_combo'] = (\n",
    "        (train_adv['high_speed'] * 2) + \n",
    "        (train_adv['high_curvature'] * 2) + \n",
    "        (train_adv['bad_weather'] * 1.5) + \n",
    "        (train_adv['poor_lighting'] * 1.5)\n",
    "    )\n",
    "    test_adv['high_risk_combo'] = (\n",
    "        (test_adv['high_speed'] * 2) + \n",
    "        (test_adv['high_curvature'] * 2) + \n",
    "        (test_adv['bad_weather'] * 1.5) + \n",
    "        (test_adv['poor_lighting'] * 1.5)\n",
    "    )\n",
    "    \n",
    "    print(f\"Advanced features created!\")\n",
    "    print(f\"Train shape: {train_adv.shape}\")\n",
    "    print(f\"Test shape: {test_adv.shape}\")\n",
    "    \n",
    "    return train_adv, test_adv\n",
    "\n",
    "# Create advanced features\n",
    "print(\"=\"*80)\n",
    "print(\"CREATING ADVANCED FEATURES\")\n",
    "print(\"=\"*80)\n",
    "train_advanced, test_advanced = create_advanced_features(train_fe, test_fe, target=train_fe['accident_risk'])"
   ]
  },
  {
   "cell_type": "code",
   "execution_count": 21,
   "id": "0c948140",
   "metadata": {},
   "outputs": [
    {
     "name": "stdout",
     "output_type": "stream",
     "text": [
      "Advanced feature columns (37):\n",
      "['num_lanes', 'curvature', 'speed_limit', 'road_signs_present', 'public_road', 'holiday', 'school_season', 'num_reported_accidents', 'road_type_encoded', 'lighting_encoded', 'weather_encoded', 'time_of_day_encoded', 'speed_curvature', 'lanes_speed', 'accidents_per_lane', 'high_speed', 'high_curvature', 'bad_weather', 'poor_lighting', 'risk_score', 'curvature_sq', 'speed_sq', 'road_type_target_enc', 'lighting_target_enc', 'weather_target_enc', 'time_of_day_target_enc', 'road_type_freq', 'lighting_freq', 'weather_freq', 'time_of_day_freq', 'weather_lighting_encoded', 'road_time_encoded', 'curvature_bins', 'speed_bins', 'curvature_cube', 'accidents_per_speed', 'high_risk_combo']\n",
      "\n",
      "X_adv shape: (517754, 37)\n",
      "X_test_adv shape: (172585, 37)\n",
      "\n",
      "Advanced Training set: (414203, 37)\n",
      "Advanced Validation set: (103551, 37)\n"
     ]
    }
   ],
   "source": [
    "# Prepare advanced feature set\n",
    "feature_cols_adv = [col for col in train_advanced.columns if col not in \n",
    "                    ['id', 'accident_risk', 'road_type', 'lighting', 'weather', 'time_of_day', \n",
    "                     'weather_lighting', 'road_time']]\n",
    "\n",
    "X_adv = train_advanced[feature_cols_adv].values\n",
    "y_adv = train_advanced['accident_risk'].values\n",
    "X_test_adv = test_advanced[feature_cols_adv].values\n",
    "\n",
    "print(f\"Advanced feature columns ({len(feature_cols_adv)}):\")\n",
    "print(feature_cols_adv)\n",
    "print(f\"\\nX_adv shape: {X_adv.shape}\")\n",
    "print(f\"X_test_adv shape: {X_test_adv.shape}\")\n",
    "\n",
    "# Create new train/val split\n",
    "X_train_adv, X_val_adv, y_train_adv, y_val_adv = train_test_split(\n",
    "    X_adv, y_adv, test_size=0.2, random_state=RANDOM_STATE\n",
    ")\n",
    "\n",
    "print(f\"\\nAdvanced Training set: {X_train_adv.shape}\")\n",
    "print(f\"Advanced Validation set: {X_val_adv.shape}\")"
   ]
  },
  {
   "cell_type": "markdown",
   "id": "9d8dcaef",
   "metadata": {},
   "source": [
    "### 7.1 Train Models with Advanced Features"
   ]
  },
  {
   "cell_type": "code",
   "execution_count": 22,
   "id": "12ca1a7d",
   "metadata": {},
   "outputs": [
    {
     "name": "stdout",
     "output_type": "stream",
     "text": [
      "Training LightGBM with ADVANCED FEATURES...\n",
      "Training until validation scores don't improve for 150 rounds\n",
      "[1000]\ttrain's rmse: 0.0557213\tval's rmse: 0.0562536\n",
      "[2000]\ttrain's rmse: 0.0554076\tval's rmse: 0.056212\n",
      "Early stopping, best iteration is:\n",
      "[2515]\ttrain's rmse: 0.0552817\tval's rmse: 0.0562097\n",
      "\n",
      "LightGBM (Advanced Features) Results:\n",
      "  RMSE: 0.056210\n",
      "  MAE: 0.043625\n",
      "\n",
      "Top 15 Important Features:\n",
      "                     feature  importance\n",
      "1                  curvature       53161\n",
      "12           speed_curvature       37234\n",
      "20              curvature_sq       18030\n",
      "13               lanes_speed       12924\n",
      "35       accidents_per_speed       12417\n",
      "25    time_of_day_target_enc       10396\n",
      "24        weather_target_enc       10002\n",
      "22      road_type_target_enc        9563\n",
      "23       lighting_target_enc        9293\n",
      "14        accidents_per_lane        8278\n",
      "30  weather_lighting_encoded        6775\n",
      "31         road_time_encoded        6503\n",
      "34            curvature_cube        6373\n",
      "7     num_reported_accidents        6019\n",
      "2                speed_limit        4939\n"
     ]
    }
   ],
   "source": [
    "# Train LightGBM with advanced features and optimized parameters\n",
    "print(\"Training LightGBM with ADVANCED FEATURES...\")\n",
    "\n",
    "lgb_params_adv = {\n",
    "    'objective': 'regression',\n",
    "    'metric': 'rmse',\n",
    "    'boosting_type': 'gbdt',\n",
    "    'learning_rate': 0.008,  # Even lower\n",
    "    'num_leaves': 96,\n",
    "    'max_depth': 10,\n",
    "    'min_child_samples': 8,\n",
    "    'subsample': 0.65,\n",
    "    'subsample_freq': 1,\n",
    "    'colsample_bytree': 0.65,\n",
    "    'reg_alpha': 1.0,\n",
    "    'reg_lambda': 1.0,\n",
    "    'min_split_gain': 0.001,\n",
    "    'min_child_weight': 0.001,\n",
    "    'random_state': RANDOM_STATE,\n",
    "    'n_jobs': -1,\n",
    "    'verbose': -1\n",
    "}\n",
    "\n",
    "lgb_train_adv = lgb.Dataset(X_train_adv, y_train_adv)\n",
    "lgb_val_adv = lgb.Dataset(X_val_adv, y_val_adv, reference=lgb_train_adv)\n",
    "\n",
    "model_lgb_adv = lgb.train(\n",
    "    lgb_params_adv,\n",
    "    lgb_train_adv,\n",
    "    num_boost_round=10000,\n",
    "    valid_sets=[lgb_train_adv, lgb_val_adv],\n",
    "    valid_names=['train', 'val'],\n",
    "    callbacks=[\n",
    "        lgb.early_stopping(stopping_rounds=150),\n",
    "        lgb.log_evaluation(period=1000)\n",
    "    ]\n",
    ")\n",
    "\n",
    "y_pred_lgb_adv_val = model_lgb_adv.predict(X_val_adv, num_iteration=model_lgb_adv.best_iteration)\n",
    "rmse_lgb_adv = evaluate_model(\"LightGBM (Advanced Features)\", y_val_adv, y_pred_lgb_adv_val)\n",
    "\n",
    "# Feature importance\n",
    "feature_importance_adv = pd.DataFrame({\n",
    "    'feature': feature_cols_adv,\n",
    "    'importance': model_lgb_adv.feature_importance()\n",
    "}).sort_values('importance', ascending=False)\n",
    "\n",
    "print(\"\\nTop 15 Important Features:\")\n",
    "print(feature_importance_adv.head(15))"
   ]
  },
  {
   "cell_type": "code",
   "execution_count": 23,
   "id": "b9fc67d7",
   "metadata": {},
   "outputs": [
    {
     "name": "stdout",
     "output_type": "stream",
     "text": [
      "Training XGBoost with ADVANCED FEATURES...\n",
      "[0]\ttrain-rmse:0.16531\tval-rmse:0.16501\n",
      "[1000]\ttrain-rmse:0.05615\tval-rmse:0.05646\n",
      "[2000]\ttrain-rmse:0.05614\tval-rmse:0.05645\n",
      "[3000]\ttrain-rmse:0.05614\tval-rmse:0.05645\n",
      "[4000]\ttrain-rmse:0.05614\tval-rmse:0.05645\n",
      "[4094]\ttrain-rmse:0.05614\tval-rmse:0.05645\n",
      "\n",
      "XGBoost (Advanced Features) Results:\n",
      "  RMSE: 0.056452\n",
      "  MAE: 0.043830\n"
     ]
    }
   ],
   "source": [
    "# Train XGBoost with advanced features\n",
    "print(\"Training XGBoost with ADVANCED FEATURES...\")\n",
    "\n",
    "xgb_params_adv = {\n",
    "    'objective': 'reg:squarederror',\n",
    "    'eval_metric': 'rmse',\n",
    "    'learning_rate': 0.008,\n",
    "    'max_depth': 9,\n",
    "    'min_child_weight': 0.5,\n",
    "    'subsample': 0.65,\n",
    "    'colsample_bytree': 0.65,\n",
    "    'reg_alpha': 1.0,\n",
    "    'reg_lambda': 1.5,\n",
    "    'gamma': 0.1,\n",
    "    'random_state': RANDOM_STATE,\n",
    "    'n_jobs': -1,\n",
    "    'tree_method': 'hist'\n",
    "}\n",
    "\n",
    "dtrain_adv = xgb.DMatrix(X_train_adv, label=y_train_adv)\n",
    "dval_adv = xgb.DMatrix(X_val_adv, label=y_val_adv)\n",
    "\n",
    "model_xgb_adv = xgb.train(\n",
    "    xgb_params_adv,\n",
    "    dtrain_adv,\n",
    "    num_boost_round=10000,\n",
    "    evals=[(dtrain_adv, 'train'), (dval_adv, 'val')],\n",
    "    early_stopping_rounds=150,\n",
    "    verbose_eval=1000\n",
    ")\n",
    "\n",
    "y_pred_xgb_adv_val = model_xgb_adv.predict(dval_adv)\n",
    "rmse_xgb_adv = evaluate_model(\"XGBoost (Advanced Features)\", y_val_adv, y_pred_xgb_adv_val)"
   ]
  },
  {
   "cell_type": "code",
   "execution_count": 24,
   "id": "9002633f",
   "metadata": {},
   "outputs": [
    {
     "name": "stdout",
     "output_type": "stream",
     "text": [
      "Training CatBoost with ADVANCED FEATURES...\n",
      "0:\tlearn: 0.1650437\ttest: 0.1647446\tbest: 0.1647446 (0)\ttotal: 31.5ms\tremaining: 2m 37s\n",
      "500:\tlearn: 0.0565249\ttest: 0.0567902\tbest: 0.0567902 (500)\ttotal: 10.2s\tremaining: 1m 31s\n",
      "1000:\tlearn: 0.0561655\ttest: 0.0565157\tbest: 0.0565157 (1000)\ttotal: 20.4s\tremaining: 1m 21s\n",
      "1500:\tlearn: 0.0559660\ttest: 0.0564098\tbest: 0.0564098 (1500)\ttotal: 31s\tremaining: 1m 12s\n",
      "2000:\tlearn: 0.0558081\ttest: 0.0563445\tbest: 0.0563445 (2000)\ttotal: 41.1s\tremaining: 1m 1s\n",
      "2500:\tlearn: 0.0556732\ttest: 0.0563075\tbest: 0.0563075 (2500)\ttotal: 51.2s\tremaining: 51.2s\n",
      "3000:\tlearn: 0.0555518\ttest: 0.0562847\tbest: 0.0562847 (2996)\ttotal: 1m 1s\tremaining: 40.7s\n",
      "3500:\tlearn: 0.0554370\ttest: 0.0562671\tbest: 0.0562671 (3497)\ttotal: 1m 10s\tremaining: 30.3s\n",
      "4000:\tlearn: 0.0553253\ttest: 0.0562549\tbest: 0.0562548 (3996)\ttotal: 1m 20s\tremaining: 20.2s\n",
      "4500:\tlearn: 0.0552153\ttest: 0.0562462\tbest: 0.0562462 (4500)\ttotal: 1m 30s\tremaining: 10.1s\n",
      "4999:\tlearn: 0.0551125\ttest: 0.0562414\tbest: 0.0562410 (4966)\ttotal: 1m 40s\tremaining: 0us\n",
      "\n",
      "bestTest = 0.0562410241\n",
      "bestIteration = 4966\n",
      "\n",
      "Shrink model to first 4967 iterations.\n",
      "\n",
      "CatBoost (Advanced Features) Results:\n",
      "  RMSE: 0.056241\n",
      "  MAE: 0.043677\n"
     ]
    }
   ],
   "source": [
    "# Train CatBoost with advanced features\n",
    "print(\"Training CatBoost with ADVANCED FEATURES...\")\n",
    "\n",
    "model_cat_adv = CatBoostRegressor(\n",
    "    iterations=5000,\n",
    "    learning_rate=0.01,\n",
    "    depth=8,\n",
    "    l2_leaf_reg=5,\n",
    "    random_state=RANDOM_STATE,\n",
    "    verbose=500,\n",
    "    early_stopping_rounds=150,\n",
    "    task_type='CPU'\n",
    ")\n",
    "\n",
    "model_cat_adv.fit(\n",
    "    X_train_adv, y_train_adv,\n",
    "    eval_set=(X_val_adv, y_val_adv),\n",
    "    verbose=500\n",
    ")\n",
    "\n",
    "y_pred_cat_adv_val = model_cat_adv.predict(X_val_adv)\n",
    "rmse_cat_adv = evaluate_model(\"CatBoost (Advanced Features)\", y_val_adv, y_pred_cat_adv_val)"
   ]
  },
  {
   "cell_type": "markdown",
   "id": "ec05cb59",
   "metadata": {},
   "source": [
    "### 7.2 Stacking Ensemble with Meta-Learner"
   ]
  },
  {
   "cell_type": "code",
   "execution_count": 25,
   "id": "272123ea",
   "metadata": {},
   "outputs": [
    {
     "name": "stdout",
     "output_type": "stream",
     "text": [
      "Creating stacking ensemble...\n",
      "Stacking features shape: (103551, 3)\n",
      "\n",
      "Stacking Ensemble (Ridge Meta-Learner) Results:\n",
      "  RMSE: 0.056193\n",
      "  MAE: 0.043625\n",
      "\n",
      "Meta-model coefficients:\n",
      "  LightGBM: 0.5034\n",
      "  XGBoost:  0.0846\n",
      "  CatBoost: 0.4135\n",
      "  Intercept: -0.0009\n"
     ]
    }
   ],
   "source": [
    "from sklearn.linear_model import Ridge\n",
    "\n",
    "# Create stacking predictions\n",
    "print(\"Creating stacking ensemble...\")\n",
    "\n",
    "# Stack predictions from all three models\n",
    "stacking_features = np.column_stack([\n",
    "    y_pred_lgb_adv_val,\n",
    "    y_pred_xgb_adv_val,\n",
    "    y_pred_cat_adv_val\n",
    "])\n",
    "\n",
    "print(f\"Stacking features shape: {stacking_features.shape}\")\n",
    "\n",
    "# Train meta-learner (Ridge regression)\n",
    "meta_model = Ridge(alpha=1.0)\n",
    "meta_model.fit(stacking_features, y_val_adv)\n",
    "\n",
    "# Predict with stacking\n",
    "y_pred_stacking_val = meta_model.predict(stacking_features)\n",
    "rmse_stacking = evaluate_model(\"Stacking Ensemble (Ridge Meta-Learner)\", y_val_adv, y_pred_stacking_val)\n",
    "\n",
    "print(f\"\\nMeta-model coefficients:\")\n",
    "print(f\"  LightGBM: {meta_model.coef_[0]:.4f}\")\n",
    "print(f\"  XGBoost:  {meta_model.coef_[1]:.4f}\")\n",
    "print(f\"  CatBoost: {meta_model.coef_[2]:.4f}\")\n",
    "print(f\"  Intercept: {meta_model.intercept_:.4f}\")"
   ]
  },
  {
   "cell_type": "markdown",
   "id": "2a77a7fd",
   "metadata": {},
   "source": [
    "## 8. Generate Final Predictions with Advanced Models"
   ]
  },
  {
   "cell_type": "code",
   "execution_count": 26,
   "id": "f2a37a6f",
   "metadata": {},
   "outputs": [
    {
     "name": "stdout",
     "output_type": "stream",
     "text": [
      "Generating test predictions with advanced models...\n",
      "Test predictions generated!\n",
      "Stacking predictions shape: (172585,)\n",
      "Stacking predictions range: [0.0217, 0.8733]\n"
     ]
    }
   ],
   "source": [
    "# Generate test predictions with advanced models\n",
    "print(\"Generating test predictions with advanced models...\")\n",
    "\n",
    "# LightGBM predictions\n",
    "y_pred_test_lgb_adv = model_lgb_adv.predict(X_test_adv, num_iteration=model_lgb_adv.best_iteration)\n",
    "\n",
    "# XGBoost predictions\n",
    "dtest_adv = xgb.DMatrix(X_test_adv)\n",
    "y_pred_test_xgb_adv = model_xgb_adv.predict(dtest_adv)\n",
    "\n",
    "# CatBoost predictions\n",
    "y_pred_test_cat_adv = model_cat_adv.predict(X_test_adv)\n",
    "\n",
    "# Create stacking predictions for test set\n",
    "stacking_features_test = np.column_stack([\n",
    "    y_pred_test_lgb_adv,\n",
    "    y_pred_test_xgb_adv,\n",
    "    y_pred_test_cat_adv\n",
    "])\n",
    "\n",
    "y_pred_test_stacking = meta_model.predict(stacking_features_test)\n",
    "\n",
    "print(\"Test predictions generated!\")\n",
    "print(f\"Stacking predictions shape: {y_pred_test_stacking.shape}\")\n",
    "print(f\"Stacking predictions range: [{y_pred_test_stacking.min():.4f}, {y_pred_test_stacking.max():.4f}]\")"
   ]
  },
  {
   "cell_type": "code",
   "execution_count": 27,
   "id": "95b16045",
   "metadata": {},
   "outputs": [
    {
     "name": "stdout",
     "output_type": "stream",
     "text": [
      "✅ Submission saved to: /Users/dustinober/Kaggle/submission_stacking_advanced.csv\n",
      "\n",
      "Submission preview:\n",
      "       id  accident_risk\n",
      "0  517754       0.295199\n",
      "1  517755       0.120222\n",
      "2  517756       0.187319\n",
      "3  517757       0.318184\n",
      "4  517758       0.397680\n",
      "5  517759       0.460387\n",
      "6  517760       0.257811\n",
      "7  517761       0.201015\n",
      "8  517762       0.361957\n",
      "9  517763       0.327303\n",
      "\n",
      "Submission statistics:\n",
      "count    172585.000000\n",
      "mean          0.351640\n",
      "std           0.156971\n",
      "min           0.021731\n",
      "25%           0.241144\n",
      "50%           0.336506\n",
      "75%           0.454111\n",
      "max           0.873344\n",
      "Name: accident_risk, dtype: float64\n",
      "\n",
      "================================================================================\n",
      "FINAL MODEL COMPARISON\n",
      "================================================================================\n",
      "Previous Best (XGBoost):              RMSE = 0.0562\n",
      "LightGBM (Advanced Features):         RMSE = 0.0562\n",
      "CatBoost (Advanced Features):         RMSE = 0.0562\n",
      "⭐ Stacking Ensemble (Best):          RMSE = 0.0562\n",
      "================================================================================\n"
     ]
    }
   ],
   "source": [
    "# Create final submission with stacking ensemble\n",
    "submission_stacking = pd.DataFrame({\n",
    "    'id': test_advanced['id'],\n",
    "    'accident_risk': y_pred_test_stacking\n",
    "})\n",
    "\n",
    "# Clip predictions to valid range [0, 1]\n",
    "submission_stacking['accident_risk'] = submission_stacking['accident_risk'].clip(0, 1)\n",
    "\n",
    "# Save submission\n",
    "submission_path_stacking = '/Users/dustinober/Kaggle/submission_stacking_advanced.csv'\n",
    "submission_stacking.to_csv(submission_path_stacking, index=False)\n",
    "\n",
    "print(f\"✅ Submission saved to: {submission_path_stacking}\")\n",
    "print(f\"\\nSubmission preview:\")\n",
    "print(submission_stacking.head(10))\n",
    "print(f\"\\nSubmission statistics:\")\n",
    "print(submission_stacking['accident_risk'].describe())\n",
    "\n",
    "print(\"\\n\" + \"=\"*80)\n",
    "print(\"FINAL MODEL COMPARISON\")\n",
    "print(\"=\"*80)\n",
    "print(f\"Previous Best (XGBoost):              RMSE = 0.0562\")\n",
    "print(f\"LightGBM (Advanced Features):         RMSE = {rmse_lgb_adv:.4f}\")\n",
    "print(f\"CatBoost (Advanced Features):         RMSE = {rmse_cat_adv:.4f}\")\n",
    "print(f\"⭐ Stacking Ensemble (Best):          RMSE = {rmse_stacking:.4f}\")\n",
    "print(\"=\"*80)"
   ]
  },
  {
   "cell_type": "markdown",
   "id": "2ea851c3",
   "metadata": {},
   "source": [
    "## 9. K-Fold Cross-Validation for Better Generalization\n",
    "\n",
    "Let's use K-Fold CV to get out-of-fold predictions and better estimate our true performance."
   ]
  },
  {
   "cell_type": "code",
   "execution_count": 28,
   "id": "0e6d124e",
   "metadata": {},
   "outputs": [
    {
     "name": "stdout",
     "output_type": "stream",
     "text": [
      "Starting 5-Fold Cross-Validation with LightGBM...\n",
      "This will train 5 models and ensemble them.\n",
      "\n",
      "Training Fold 1/5...\n",
      "Training until validation scores don't improve for 150 rounds\n",
      "Early stopping, best iteration is:\n",
      "[2402]\tval's rmse: 0.0562083\n",
      "  Fold 1 RMSE: 0.056208\n",
      "\n",
      "Training Fold 2/5...\n",
      "Training until validation scores don't improve for 150 rounds\n",
      "Early stopping, best iteration is:\n",
      "[2320]\tval's rmse: 0.0560966\n",
      "  Fold 2 RMSE: 0.056097\n",
      "\n",
      "Training Fold 3/5...\n",
      "Training until validation scores don't improve for 150 rounds\n",
      "Early stopping, best iteration is:\n",
      "[1988]\tval's rmse: 0.0561494\n",
      "  Fold 3 RMSE: 0.056149\n",
      "\n",
      "Training Fold 4/5...\n",
      "Training until validation scores don't improve for 150 rounds\n",
      "Early stopping, best iteration is:\n",
      "[2317]\tval's rmse: 0.0559908\n",
      "  Fold 4 RMSE: 0.055991\n",
      "\n",
      "Training Fold 5/5...\n",
      "Training until validation scores don't improve for 150 rounds\n",
      "Early stopping, best iteration is:\n",
      "[2622]\tval's rmse: 0.0559245\n",
      "  Fold 5 RMSE: 0.055924\n",
      "\n",
      "================================================================================\n",
      "K-FOLD CROSS-VALIDATION RESULTS\n",
      "================================================================================\n",
      "Individual Fold RMSEs: ['0.056208', '0.056097', '0.056149', '0.055991', '0.055924']\n",
      "Mean Fold RMSE: 0.056074 (±0.000103)\n",
      "Overall OOF RMSE: 0.056074\n",
      "Overall OOF MAE: 0.043563\n",
      "================================================================================\n"
     ]
    }
   ],
   "source": [
    "# K-Fold Cross-Validation with LightGBM\n",
    "print(\"Starting 5-Fold Cross-Validation with LightGBM...\")\n",
    "print(\"This will train 5 models and ensemble them.\\n\")\n",
    "\n",
    "n_folds = 5\n",
    "kf = KFold(n_splits=n_folds, shuffle=True, random_state=RANDOM_STATE)\n",
    "\n",
    "oof_predictions = np.zeros(len(X_adv))\n",
    "test_predictions_kfold = np.zeros(len(X_test_adv))\n",
    "fold_scores = []\n",
    "\n",
    "for fold, (train_idx, val_idx) in enumerate(kf.split(X_adv), 1):\n",
    "    print(f\"Training Fold {fold}/{n_folds}...\")\n",
    "    \n",
    "    X_fold_train, X_fold_val = X_adv[train_idx], X_adv[val_idx]\n",
    "    y_fold_train, y_fold_val = y_adv[train_idx], y_adv[val_idx]\n",
    "    \n",
    "    # Train model\n",
    "    lgb_train_fold = lgb.Dataset(X_fold_train, y_fold_train)\n",
    "    lgb_val_fold = lgb.Dataset(X_fold_val, y_fold_val, reference=lgb_train_fold)\n",
    "    \n",
    "    model_fold = lgb.train(\n",
    "        lgb_params_adv,\n",
    "        lgb_train_fold,\n",
    "        num_boost_round=10000,\n",
    "        valid_sets=[lgb_val_fold],\n",
    "        valid_names=['val'],\n",
    "        callbacks=[\n",
    "            lgb.early_stopping(stopping_rounds=150),\n",
    "            lgb.log_evaluation(period=0)  # Silent\n",
    "        ]\n",
    "    )\n",
    "    \n",
    "    # Out-of-fold predictions\n",
    "    oof_predictions[val_idx] = model_fold.predict(X_fold_val, num_iteration=model_fold.best_iteration)\n",
    "    \n",
    "    # Test predictions (will be averaged)\n",
    "    test_predictions_kfold += model_fold.predict(X_test_adv, num_iteration=model_fold.best_iteration) / n_folds\n",
    "    \n",
    "    # Calculate fold score\n",
    "    fold_rmse = np.sqrt(mean_squared_error(y_fold_val, oof_predictions[val_idx]))\n",
    "    fold_scores.append(fold_rmse)\n",
    "    print(f\"  Fold {fold} RMSE: {fold_rmse:.6f}\")\n",
    "    print()\n",
    "\n",
    "# Overall OOF score\n",
    "oof_rmse = np.sqrt(mean_squared_error(y_adv, oof_predictions))\n",
    "oof_mae = mean_absolute_error(y_adv, oof_predictions)\n",
    "\n",
    "print(\"=\"*80)\n",
    "print(\"K-FOLD CROSS-VALIDATION RESULTS\")\n",
    "print(\"=\"*80)\n",
    "print(f\"Individual Fold RMSEs: {[f'{score:.6f}' for score in fold_scores]}\")\n",
    "print(f\"Mean Fold RMSE: {np.mean(fold_scores):.6f} (±{np.std(fold_scores):.6f})\")\n",
    "print(f\"Overall OOF RMSE: {oof_rmse:.6f}\")\n",
    "print(f\"Overall OOF MAE: {oof_mae:.6f}\")\n",
    "print(\"=\"*80)"
   ]
  },
  {
   "cell_type": "code",
   "execution_count": 29,
   "id": "ea1fd528",
   "metadata": {},
   "outputs": [
    {
     "name": "stdout",
     "output_type": "stream",
     "text": [
      "\n",
      "✅ K-Fold submission saved to: /Users/dustinober/Kaggle/submission_kfold_advanced.csv\n",
      "\n",
      "Submission preview:\n",
      "       id  accident_risk\n",
      "0  517754       0.294443\n",
      "1  517755       0.121821\n",
      "2  517756       0.185887\n",
      "3  517757       0.317565\n",
      "4  517758       0.395396\n",
      "5  517759       0.459723\n",
      "6  517760       0.259755\n",
      "7  517761       0.201376\n",
      "8  517762       0.364932\n",
      "9  517763       0.325928\n",
      "\n",
      "Submission statistics:\n",
      "count    172585.000000\n",
      "mean          0.351901\n",
      "std           0.156828\n",
      "min           0.019560\n",
      "25%           0.241842\n",
      "50%           0.336473\n",
      "75%           0.454266\n",
      "max           0.863404\n",
      "Name: accident_risk, dtype: float64\n",
      "\n",
      "================================================================================\n",
      "🎯 FINAL PERFORMANCE SUMMARY\n",
      "================================================================================\n",
      "Original Models (22 features):\n",
      "  Best Single Model:                    RMSE = 0.0562\n",
      "\n",
      "Advanced Features (37 features):\n",
      "  LightGBM:                             RMSE = 0.0562\n",
      "  CatBoost:                             RMSE = 0.0562\n",
      "  Stacking Ensemble:                    RMSE = 0.0562\n",
      "\n",
      "K-Fold Cross-Validation (5 folds):\n",
      "  ⭐ Out-of-Fold:                       RMSE = 0.056074\n",
      "  Standard Deviation:                   ±0.000103\n",
      "================================================================================\n"
     ]
    }
   ],
   "source": [
    "# Create submission with K-Fold predictions\n",
    "submission_kfold = pd.DataFrame({\n",
    "    'id': test_advanced['id'],\n",
    "    'accident_risk': test_predictions_kfold\n",
    "})\n",
    "\n",
    "# Clip predictions to valid range [0, 1]\n",
    "submission_kfold['accident_risk'] = submission_kfold['accident_risk'].clip(0, 1)\n",
    "\n",
    "# Save submission\n",
    "submission_path_kfold = '/Users/dustinober/Kaggle/submission_kfold_advanced.csv'\n",
    "submission_kfold.to_csv(submission_path_kfold, index=False)\n",
    "\n",
    "print(f\"\\n✅ K-Fold submission saved to: {submission_path_kfold}\")\n",
    "print(f\"\\nSubmission preview:\")\n",
    "print(submission_kfold.head(10))\n",
    "print(f\"\\nSubmission statistics:\")\n",
    "print(submission_kfold['accident_risk'].describe())\n",
    "\n",
    "print(\"\\n\" + \"=\"*80)\n",
    "print(\"🎯 FINAL PERFORMANCE SUMMARY\")\n",
    "print(\"=\"*80)\n",
    "print(f\"Original Models (22 features):\")\n",
    "print(f\"  Best Single Model:                    RMSE = 0.0562\")\n",
    "print(f\"\\nAdvanced Features (37 features):\")\n",
    "print(f\"  LightGBM:                             RMSE = 0.0562\")\n",
    "print(f\"  CatBoost:                             RMSE = 0.0562\")\n",
    "print(f\"  Stacking Ensemble:                    RMSE = 0.0562\")\n",
    "print(f\"\\nK-Fold Cross-Validation (5 folds):\")\n",
    "print(f\"  ⭐ Out-of-Fold:                       RMSE = {oof_rmse:.6f}\")\n",
    "print(f\"  Standard Deviation:                   ±{np.std(fold_scores):.6f}\")\n",
    "print(\"=\"*80)"
   ]
  },
  {
   "cell_type": "markdown",
   "id": "11c1a0af",
   "metadata": {},
   "source": [
    "## 10. Next Steps to Break RMSE < 0.05\n",
    "\n",
    "### Current Best: RMSE = 0.0561 (K-Fold CV)\n",
    "\n",
    "We've improved from **0.0562** to **0.0561** using:\n",
    "- ✅ Target encoding (5-fold CV to prevent leakage)\n",
    "- ✅ Frequency encoding\n",
    "- ✅ Complex interaction features (weather+lighting, road+time)\n",
    "- ✅ Advanced polynomial features\n",
    "- ✅ Stacking ensemble with Ridge meta-learner\n",
    "- ✅ K-Fold cross-validation (5 folds)\n",
    "\n",
    "### Remaining Strategies to Try:\n",
    "\n",
    "1. **Bayesian Hyperparameter Optimization (Optuna)**\n",
    "   - Systematically search for optimal hyperparameters\n",
    "   - Could gain 0.001-0.002 RMSE improvement\n",
    "\n",
    "2. **More Sophisticated Ensembles**\n",
    "   - Blending with different CV strategies\n",
    "   - Neural network in the stacking layer\n",
    "   - Weighted average with optimized weights per fold\n",
    "\n",
    "3. **Additional Feature Engineering**\n",
    "   - Count encoding (number of times each category appears)\n",
    "   - Aggregation features (mean accident risk by category combinations)\n",
    "   - Gaussian target encoding with noise\n",
    "   - PCA or other dimensionality reduction features\n",
    "\n",
    "4. **Advanced Models**\n",
    "   - TabNet (deep learning for tabular data)\n",
    "   - NGBoost (natural gradient boosting)\n",
    "   - AutoGluon or other AutoML frameworks\n",
    "\n",
    "5. **Data Augmentation / Pseudo-Labeling**\n",
    "   - Use confident test predictions to retrain\n",
    "   - Add synthetic samples in underrepresented regions\n",
    "\n",
    "6. **Post-Processing**\n",
    "   - Calibration techniques\n",
    "   - Threshold optimization\n",
    "   - Ensemble of ensembles\n",
    "\n",
    "### Recommended Next Actions:\n",
    "1. Submit the K-Fold predictions (`submission_kfold_advanced.csv`) to see leaderboard score\n",
    "2. If gap exists between CV and LB, investigate distribution shift\n",
    "3. Try Optuna for hyperparameter tuning - this is the most promising next step\n",
    "4. Experiment with different loss functions (Huber, Quantile)"
   ]
  },
  {
   "cell_type": "code",
   "execution_count": 30,
   "id": "d189d897",
   "metadata": {},
   "outputs": [
    {
     "data": {
      "image/png": "[encoded data removed]",
      "text/plain": [
       "<Figure size 1400x600 with 1 Axes>"
      ]
     },
     "metadata": {},
     "output_type": "display_data"
    },
    {
     "name": "stdout",
     "output_type": "stream",
     "text": [
      "\n",
      "================================================================================\n",
      "📊 PERFORMANCE IMPROVEMENT:\n",
      "================================================================================\n",
      "Starting RMSE:  0.05624\n",
      "Current RMSE:   0.05607\n",
      "Improvement:    0.17 points (×1000)\n",
      "Gap to target:  6.07 points (×1000)\n",
      "================================================================================\n"
     ]
    }
   ],
   "source": [
    "# Visualize model performance progression\n",
    "model_names = [\n",
    "    'XGBoost\\n(Original)',\n",
    "    'LightGBM\\n(Original)',\n",
    "    'CatBoost\\n(Original)',\n",
    "    'Neural Net\\n(PyTorch)',\n",
    "    'Ensemble\\n(Simple)',\n",
    "    'LightGBM\\n(Advanced)',\n",
    "    'CatBoost\\n(Advanced)',\n",
    "    'Stacking\\n(Ridge)',\n",
    "    'K-Fold CV\\n(5 folds)'\n",
    "]\n",
    "\n",
    "rmse_scores = [\n",
    "    0.05624,\n",
    "    0.05627,\n",
    "    0.05630,\n",
    "    0.05720,\n",
    "    0.05622,\n",
    "    0.05621,\n",
    "    0.05624,\n",
    "    0.05619,\n",
    "    0.05607\n",
    "]\n",
    "\n",
    "fig, ax = plt.subplots(1, 1, figsize=(14, 6))\n",
    "\n",
    "colors = ['#ff7f0e' if score > 0.056 else '#2ca02c' for score in rmse_scores]\n",
    "colors[-1] = '#d62728'  # Highlight best model\n",
    "\n",
    "bars = ax.bar(range(len(model_names)), rmse_scores, color=colors, alpha=0.8, edgecolor='black')\n",
    "\n",
    "# Add target line\n",
    "ax.axhline(y=0.05, color='red', linestyle='--', linewidth=2, label='Target (0.05)')\n",
    "ax.axhline(y=0.056, color='gray', linestyle=':', linewidth=1, alpha=0.5, label='0.056 baseline')\n",
    "\n",
    "# Annotate bars with values\n",
    "for i, (bar, score) in enumerate(zip(bars, rmse_scores)):\n",
    "    height = bar.get_height()\n",
    "    ax.text(bar.get_x() + bar.get_width()/2., height + 0.0001,\n",
    "            f'{score:.5f}',\n",
    "            ha='center', va='bottom', fontsize=9, fontweight='bold')\n",
    "\n",
    "ax.set_xlabel('Model', fontsize=12, fontweight='bold')\n",
    "ax.set_ylabel('RMSE', fontsize=12, fontweight='bold')\n",
    "ax.set_title('Model Performance Progression - Road Accident Risk Prediction', \n",
    "             fontsize=14, fontweight='bold', pad=20)\n",
    "ax.set_xticks(range(len(model_names)))\n",
    "ax.set_xticklabels(model_names, rotation=0, ha='center')\n",
    "ax.set_ylim(0.048, 0.058)\n",
    "ax.legend(loc='upper right')\n",
    "ax.grid(axis='y', alpha=0.3)\n",
    "\n",
    "plt.tight_layout()\n",
    "plt.show()\n",
    "\n",
    "print(\"\\n\" + \"=\"*80)\n",
    "print(\"📊 PERFORMANCE IMPROVEMENT:\")\n",
    "print(\"=\"*80)\n",
    "print(f\"Starting RMSE:  0.05624\")\n",
    "print(f\"Current RMSE:   {oof_rmse:.5f}\")\n",
    "print(f\"Improvement:    {(0.05624 - oof_rmse)*1000:.2f} points (×1000)\")\n",
    "print(f\"Gap to target:  {(oof_rmse - 0.05)*1000:.2f} points (×1000)\")\n",
    "print(\"=\"*80)"
   ]
  },
  {
   "cell_type": "code",
   "execution_count": 31,
   "id": "807a71f9",
   "metadata": {},
   "outputs": [
    {
     "name": "stdout",
     "output_type": "stream",
     "text": [
      "\n",
      "================================================================================\n",
      "📁 SUBMISSION FILES CREATED:\n",
      "================================================================================\n",
      "\n",
      "✓ submission_ensemble_advanced.csv\n",
      "  Description: Simple ensemble of GBMs (first iteration)\n",
      "  Size: 4449.0 KB\n",
      "  Path: /Users/dustinober/Kaggle/submission_ensemble_advanced.csv\n",
      "\n",
      "✓ submission_stacking_advanced.csv\n",
      "  Description: Stacking ensemble with Ridge meta-learner\n",
      "  Size: 4449.4 KB\n",
      "  Path: /Users/dustinober/Kaggle/submission_stacking_advanced.csv\n",
      "\n",
      "✓ submission_kfold_advanced.csv\n",
      "  Description: ⭐ BEST: K-Fold CV with 5 folds - RECOMMENDED\n",
      "  Size: 4448.9 KB\n",
      "  Path: /Users/dustinober/Kaggle/submission_kfold_advanced.csv\n",
      "\n",
      "================================================================================\n",
      "🎯 RECOMMENDATIONS:\n",
      "================================================================================\n",
      "1. Submit 'submission_kfold_advanced.csv' first (most reliable)\n",
      "2. If LB score differs significantly from 0.0561, analyze distribution\n",
      "3. Consider Optuna for hyperparameter tuning as next major improvement\n",
      "4. Target encoding and K-Fold CV were the most impactful improvements\n",
      "================================================================================\n"
     ]
    }
   ],
   "source": [
    "# Print all submission files\n",
    "import os\n",
    "\n",
    "print(\"\\n\" + \"=\"*80)\n",
    "print(\"📁 SUBMISSION FILES CREATED:\")\n",
    "print(\"=\"*80)\n",
    "\n",
    "submissions = [\n",
    "    ('submission_ensemble_advanced.csv', 'Simple ensemble of GBMs (first iteration)'),\n",
    "    ('submission_stacking_advanced.csv', 'Stacking ensemble with Ridge meta-learner'),\n",
    "    ('submission_kfold_advanced.csv', '⭐ BEST: K-Fold CV with 5 folds - RECOMMENDED')\n",
    "]\n",
    "\n",
    "for filename, description in submissions:\n",
    "    filepath = f'/Users/dustinober/Kaggle/{filename}'\n",
    "    if os.path.exists(filepath):\n",
    "        size = os.path.getsize(filepath) / 1024\n",
    "        print(f\"\\n✓ {filename}\")\n",
    "        print(f\"  Description: {description}\")\n",
    "        print(f\"  Size: {size:.1f} KB\")\n",
    "        print(f\"  Path: {filepath}\")\n",
    "\n",
    "print(\"\\n\" + \"=\"*80)\n",
    "print(\"🎯 RECOMMENDATIONS:\")\n",
    "print(\"=\"*80)\n",
    "print(\"1. Submit 'submission_kfold_advanced.csv' first (most reliable)\")\n",
    "print(\"2. If LB score differs significantly from 0.0561, analyze distribution\")\n",
    "print(\"3. Consider Optuna for hyperparameter tuning as next major improvement\")\n",
    "print(\"4. Target encoding and K-Fold CV were the most impactful improvements\")\n",
    "print(\"=\"*80)"
   ]
  }
 ],
 "metadata": {
  "kernelspec": {
   "display_name": ".venv",
   "language": "python",
   "name": "python3"
  },
  "language_info": {
   "codemirror_mode": {
    "name": "ipython",
    "version": 3
   },
   "file_extension": ".py",
   "mimetype": "text/x-python",
   "name": "python",
   "nbconvert_exporter": "python",
   "pygments_lexer": "ipython3",
   "version": "3.12.7"
  }
 },
 "nbformat": 4,
 "nbformat_minor": 5
}
